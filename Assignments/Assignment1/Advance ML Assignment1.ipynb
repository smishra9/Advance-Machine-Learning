{
  "nbformat": 4,
  "nbformat_minor": 0,
  "metadata": {
    "colab": {
      "name": "Untitled0.ipynb",
      "provenance": [],
      "collapsed_sections": []
    },
    "kernelspec": {
      "name": "python3",
      "display_name": "Python 3"
    },
    "language_info": {
      "name": "python"
    }
  },
  "cells": [
    {
      "cell_type": "markdown",
      "metadata": {
        "id": "jG1Kmv8clPSB"
      },
      "source": [
        "The IMDB Dataset is loaded in the library using tensorflow.keras.datasets\n"
      ]
    },
    {
      "cell_type": "code",
      "metadata": {
        "id": "_-WCX-xHkiXL"
      },
      "source": [
        "from tensorflow.keras.datasets import imdb\n",
        "(train_data, train_labels), (test_data, test_labels) = imdb.load_data(\n",
        "    num_words=10000)\n",
        "import matplotlib.pyplot as plt"
      ],
      "execution_count": 2,
      "outputs": []
    },
    {
      "cell_type": "markdown",
      "metadata": {
        "id": "F0_YaATXlOQ1"
      },
      "source": [
        ""
      ]
    },
    {
      "cell_type": "markdown",
      "metadata": {
        "id": "SDhWNeBwnnyU"
      },
      "source": [
        "We have vectorized the dataset by Creating an all-zero matrix of shape (len(sequences), dimension) and Sets specific indices of results[i] to 1s."
      ]
    },
    {
      "cell_type": "code",
      "metadata": {
        "id": "cAuuNLBSnAAS"
      },
      "source": [
        "import numpy \n",
        "\n",
        "def vectorize_sequences(sequences, dimension=10000):\n",
        "    results = numpy.zeros((len(sequences), dimension))\n",
        "    for i, sequence in enumerate(sequences):\n",
        "        for j in sequence:\n",
        "            results[i, j] = 1.\n",
        "    return results\n"
      ],
      "execution_count": 3,
      "outputs": []
    },
    {
      "cell_type": "markdown",
      "metadata": {
        "id": "KmxkPGemnXgs"
      },
      "source": [
        "The Training data and test data is vectorized"
      ]
    },
    {
      "cell_type": "code",
      "metadata": {
        "id": "5zGtyoZHni5O"
      },
      "source": [
        "a_training = vectorize_sequences(train_data)\n",
        "a_test = vectorize_sequences(test_data)\n",
        "b_training = numpy.asarray(train_labels).astype(\"float32\")\n",
        "b_test = numpy.asarray(test_labels).astype(\"float32\")"
      ],
      "execution_count": 4,
      "outputs": []
    },
    {
      "cell_type": "markdown",
      "metadata": {
        "id": "mzagVOvnrKLR"
      },
      "source": [
        "\n",
        " 35 % of data is allocated to Validation data for training data"
      ]
    },
    {
      "cell_type": "code",
      "metadata": {
        "id": "yqhQhlDbrY9w"
      },
      "source": [
        "a_valid = a_training[:10000]\n",
        "partial_a_training = a_training[10000:]\n",
        "b_valid = b_training[:10000]\n",
        "partial_b_training = b_training[10000:]"
      ],
      "execution_count": 5,
      "outputs": []
    },
    {
      "cell_type": "markdown",
      "metadata": {
        "id": "4hqPOPK2rtKj"
      },
      "source": [
        "Defining the Model"
      ]
    },
    {
      "cell_type": "code",
      "metadata": {
        "id": "5J9LHW8JrvbG"
      },
      "source": [
        "from tensorflow import keras\n",
        "from tensorflow.keras import layers\n",
        "from tensorflow.keras import regularizers\n",
        "model = keras.Sequential([\n",
        "    layers.Dense(32, activation=\"relu\"),\n",
        "    layers.Dense(32, activation=\"relu\"),\n",
        "    layers.Dense(1, activation=\"sigmoid\")\n",
        "])"
      ],
      "execution_count": 6,
      "outputs": []
    },
    {
      "cell_type": "markdown",
      "metadata": {
        "id": "fdVQWhMvr48n"
      },
      "source": [
        "\n",
        "Model Compilation"
      ]
    },
    {
      "cell_type": "code",
      "metadata": {
        "id": "GkTEc5ppr893"
      },
      "source": [
        "model.compile(optimizer=\"rmsprop\",\n",
        "              loss=\"binary_crossentropy\",\n",
        "              metrics=[\"accuracy\"])"
      ],
      "execution_count": 7,
      "outputs": []
    },
    {
      "cell_type": "markdown",
      "metadata": {
        "id": "lg5-KBzDsBEW"
      },
      "source": [
        "Model Training"
      ]
    },
    {
      "cell_type": "code",
      "metadata": {
        "colab": {
          "base_uri": "https://localhost:8080/"
        },
        "id": "iIYx0ZU5sCzW",
        "outputId": "5040b976-a39a-4a83-f16e-5c97384a9a23"
      },
      "source": [
        "history = model.fit(partial_a_training,\n",
        "                    partial_b_training,\n",
        "                    epochs=25,\n",
        "                    batch_size=1024,\n",
        "                    validation_data=(a_valid, b_valid))\n",
        "history_dict = history.history\n",
        "history_dict.keys()"
      ],
      "execution_count": 8,
      "outputs": [
        {
          "output_type": "stream",
          "name": "stdout",
          "text": [
            "Epoch 1/25\n",
            "15/15 [==============================] - 3s 127ms/step - loss: 0.5677 - accuracy: 0.7217 - val_loss: 0.4298 - val_accuracy: 0.8579\n",
            "Epoch 2/25\n",
            "15/15 [==============================] - 1s 81ms/step - loss: 0.3668 - accuracy: 0.8723 - val_loss: 0.3376 - val_accuracy: 0.8833\n",
            "Epoch 3/25\n",
            "15/15 [==============================] - 1s 83ms/step - loss: 0.2746 - accuracy: 0.9130 - val_loss: 0.3049 - val_accuracy: 0.8847\n",
            "Epoch 4/25\n",
            "15/15 [==============================] - 1s 80ms/step - loss: 0.2231 - accuracy: 0.9274 - val_loss: 0.2869 - val_accuracy: 0.8899\n",
            "Epoch 5/25\n",
            "15/15 [==============================] - 1s 81ms/step - loss: 0.1759 - accuracy: 0.9447 - val_loss: 0.3877 - val_accuracy: 0.8405\n",
            "Epoch 6/25\n",
            "15/15 [==============================] - 1s 81ms/step - loss: 0.1545 - accuracy: 0.9505 - val_loss: 0.2911 - val_accuracy: 0.8858\n",
            "Epoch 7/25\n",
            "15/15 [==============================] - 1s 83ms/step - loss: 0.1350 - accuracy: 0.9553 - val_loss: 0.2956 - val_accuracy: 0.8832\n",
            "Epoch 8/25\n",
            "15/15 [==============================] - 1s 82ms/step - loss: 0.1148 - accuracy: 0.9642 - val_loss: 0.3533 - val_accuracy: 0.8677\n",
            "Epoch 9/25\n",
            "15/15 [==============================] - 1s 81ms/step - loss: 0.0843 - accuracy: 0.9796 - val_loss: 0.3049 - val_accuracy: 0.8848\n",
            "Epoch 10/25\n",
            "15/15 [==============================] - 1s 81ms/step - loss: 0.0959 - accuracy: 0.9707 - val_loss: 0.3193 - val_accuracy: 0.8828\n",
            "Epoch 11/25\n",
            "15/15 [==============================] - 1s 80ms/step - loss: 0.0556 - accuracy: 0.9889 - val_loss: 0.3392 - val_accuracy: 0.8800\n",
            "Epoch 12/25\n",
            "15/15 [==============================] - 1s 81ms/step - loss: 0.0651 - accuracy: 0.9808 - val_loss: 0.3734 - val_accuracy: 0.8770\n",
            "Epoch 13/25\n",
            "15/15 [==============================] - 1s 81ms/step - loss: 0.0393 - accuracy: 0.9927 - val_loss: 0.3853 - val_accuracy: 0.8735\n",
            "Epoch 14/25\n",
            "15/15 [==============================] - 1s 80ms/step - loss: 0.0530 - accuracy: 0.9846 - val_loss: 0.3884 - val_accuracy: 0.8774\n",
            "Epoch 15/25\n",
            "15/15 [==============================] - 1s 84ms/step - loss: 0.0261 - accuracy: 0.9970 - val_loss: 0.4069 - val_accuracy: 0.8774\n",
            "Epoch 16/25\n",
            "15/15 [==============================] - 1s 81ms/step - loss: 0.0542 - accuracy: 0.9827 - val_loss: 0.4254 - val_accuracy: 0.8762\n",
            "Epoch 17/25\n",
            "15/15 [==============================] - 1s 81ms/step - loss: 0.0171 - accuracy: 0.9991 - val_loss: 0.4418 - val_accuracy: 0.8755\n",
            "Epoch 18/25\n",
            "15/15 [==============================] - 1s 82ms/step - loss: 0.0147 - accuracy: 0.9995 - val_loss: 0.4658 - val_accuracy: 0.8720\n",
            "Epoch 19/25\n",
            "15/15 [==============================] - 1s 82ms/step - loss: 0.0410 - accuracy: 0.9879 - val_loss: 0.4831 - val_accuracy: 0.8702\n",
            "Epoch 20/25\n",
            "15/15 [==============================] - 1s 84ms/step - loss: 0.0102 - accuracy: 0.9997 - val_loss: 0.5014 - val_accuracy: 0.8713\n",
            "Epoch 21/25\n",
            "15/15 [==============================] - 1s 84ms/step - loss: 0.0085 - accuracy: 0.9997 - val_loss: 0.5260 - val_accuracy: 0.8699\n",
            "Epoch 22/25\n",
            "15/15 [==============================] - 1s 82ms/step - loss: 0.0246 - accuracy: 0.9925 - val_loss: 0.5917 - val_accuracy: 0.8625\n",
            "Epoch 23/25\n",
            "15/15 [==============================] - 1s 82ms/step - loss: 0.0070 - accuracy: 0.9998 - val_loss: 0.5562 - val_accuracy: 0.8713\n",
            "Epoch 24/25\n",
            "15/15 [==============================] - 1s 85ms/step - loss: 0.0052 - accuracy: 0.9998 - val_loss: 0.5774 - val_accuracy: 0.8692\n",
            "Epoch 25/25\n",
            "15/15 [==============================] - 1s 81ms/step - loss: 0.0050 - accuracy: 0.9997 - val_loss: 0.9423 - val_accuracy: 0.8286\n"
          ]
        },
        {
          "output_type": "execute_result",
          "data": {
            "text/plain": [
              "dict_keys(['loss', 'accuracy', 'val_loss', 'val_accuracy'])"
            ]
          },
          "metadata": {},
          "execution_count": 8
        }
      ]
    },
    {
      "cell_type": "markdown",
      "metadata": {
        "id": "Os_3R1ycvbEY"
      },
      "source": [
        "Training and validation loss plot"
      ]
    },
    {
      "cell_type": "code",
      "metadata": {
        "colab": {
          "base_uri": "https://localhost:8080/",
          "height": 573
        },
        "id": "JvMAWf2Tv1Lu",
        "outputId": "7b39f0c7-566c-46fc-b932-151f8df74049"
      },
      "source": [
        "history_dict = history.history\n",
        "loss_value = history_dict[\"loss\"]\n",
        "valid_loss_values = history_dict[\"val_loss\"]\n",
        "epochs = range(1, len(loss_value) + 1)\n",
        "plt.plot(epochs, loss_value, \"bo\", label=\"Training loss\")\n",
        "plt.plot(epochs, valid_loss_values, \"b\", label=\"Validation loss\")\n",
        "plt.title(\"Training and validation loss\")\n",
        "plt.xlabel(\"Epochs\")\n",
        "plt.ylabel(\"Loss\")\n",
        "plt.legend()\n",
        "plt.show()\n",
        "plt.clf()\n",
        "acc = history_dict[\"accuracy\"]\n",
        "val_acc = history_dict[\"val_accuracy\"]\n",
        "plt.plot(epochs, acc, \"bo\", label=\"Training acc\")\n",
        "plt.plot(epochs, val_acc, \"b\", label=\"Validation acc\")\n",
        "plt.title(\"Training and validation accuracy\")\n",
        "plt.xlabel(\"Epochs\")\n",
        "plt.ylabel(\"Accuracy\")\n",
        "plt.legend()\n",
        "plt.show()"
      ],
      "execution_count": 9,
      "outputs": [
        {
          "output_type": "display_data",
          "data": {
            "image/png": "[encoded data removed]",
            "text/plain": [
              "<Figure size 432x288 with 1 Axes>"
            ]
          },
          "metadata": {
            "needs_background": "light"
          }
        },
        {
          "output_type": "display_data",
          "data": {
            "image/png": "[encoded data removed]",
            "text/plain": [
              "<Figure size 432x288 with 1 Axes>"
            ]
          },
          "metadata": {
            "needs_background": "light"
          }
        }
      ]
    },
    {
      "cell_type": "markdown",
      "metadata": {
        "id": "kikCtjtPyG4e"
      },
      "source": [
        "Retraining the Model-1"
      ]
    },
    {
      "cell_type": "code",
      "metadata": {
        "colab": {
          "base_uri": "https://localhost:8080/"
        },
        "id": "-fv2NPNFyJXT",
        "outputId": "6ecc6edb-93be-41dd-fb06-199e7589e1da"
      },
      "source": [
        "model1 = keras.Sequential([\n",
        "    layers.Dense(32, activation=\"relu\"),\n",
        "    layers.Dense(32, activation=\"relu\"),\n",
        "    layers.Dense(1, activation=\"sigmoid\")\n",
        "])\n",
        "model1.compile(optimizer=\"rmsprop\",\n",
        "              loss=\"binary_crossentropy\",\n",
        "              metrics=[\"accuracy\"])\n",
        "model1.fit(a_training, b_training, epochs=4, batch_size=1024)\n",
        "result1 = model1.evaluate(a_test, b_test)"
      ],
      "execution_count": 10,
      "outputs": [
        {
          "output_type": "stream",
          "name": "stdout",
          "text": [
            "Epoch 1/4\n",
            "25/25 [==============================] - 2s 63ms/step - loss: 0.5013 - accuracy: 0.7795\n",
            "Epoch 2/4\n",
            "25/25 [==============================] - 2s 62ms/step - loss: 0.2981 - accuracy: 0.8974\n",
            "Epoch 3/4\n",
            "25/25 [==============================] - 2s 63ms/step - loss: 0.2245 - accuracy: 0.9220\n",
            "Epoch 4/4\n",
            "25/25 [==============================] - 2s 61ms/step - loss: 0.1929 - accuracy: 0.9300\n",
            "782/782 [==============================] - 2s 3ms/step - loss: 0.2882 - accuracy: 0.8854\n"
          ]
        }
      ]
    },
    {
      "cell_type": "code",
      "metadata": {
        "colab": {
          "base_uri": "https://localhost:8080/"
        },
        "id": "WZ6UVXxdyh6m",
        "outputId": "6f20c22e-3ec7-4da7-9437-397b910b808e"
      },
      "source": [
        "result1"
      ],
      "execution_count": 11,
      "outputs": [
        {
          "output_type": "execute_result",
          "data": {
            "text/plain": [
              "[0.2881981432437897, 0.8853600025177002]"
            ]
          },
          "metadata": {},
          "execution_count": 11
        }
      ]
    },
    {
      "cell_type": "code",
      "metadata": {
        "colab": {
          "base_uri": "https://localhost:8080/"
        },
        "id": "UWULVntsypwN",
        "outputId": "a603528c-15d7-46ad-ac78-1077f503fb62"
      },
      "source": [
        "model1.predict(a_test)"
      ],
      "execution_count": 12,
      "outputs": [
        {
          "output_type": "execute_result",
          "data": {
            "text/plain": [
              "array([[0.23607525],\n",
              "       [0.99966705],\n",
              "       [0.98380816],\n",
              "       ...,\n",
              "       [0.17576322],\n",
              "       [0.14323789],\n",
              "       [0.76257515]], dtype=float32)"
            ]
          },
          "metadata": {},
          "execution_count": 12
        }
      ]
    },
    {
      "cell_type": "markdown",
      "metadata": {
        "id": "-2yOM1Fay-bi"
      },
      "source": [
        "Retraining the Model-2"
      ]
    },
    {
      "cell_type": "code",
      "metadata": {
        "colab": {
          "base_uri": "https://localhost:8080/"
        },
        "id": "ip4eVA9_zEpb",
        "outputId": "b3c0d2dd-8bcc-4056-ab83-67893182a96d"
      },
      "source": [
        "model2 = keras.Sequential([\n",
        "    layers.Dense(32, activation=\"relu\"),\n",
        "    layers.Dense(32, activation=\"relu\"),\n",
        "    layers.Dense(1, activation=\"sigmoid\")\n",
        "])\n",
        "model2.compile(optimizer=\"rmsprop\",\n",
        "              loss=\"binary_crossentropy\",\n",
        "              metrics=[\"accuracy\"])\n",
        "model2.fit(a_training, b_training, epochs=5, batch_size=1024)\n",
        "result2 = model2.evaluate(a_test, b_test)"
      ],
      "execution_count": 13,
      "outputs": [
        {
          "output_type": "stream",
          "name": "stdout",
          "text": [
            "Epoch 1/5\n",
            "25/25 [==============================] - 2s 65ms/step - loss: 0.4897 - accuracy: 0.7952\n",
            "Epoch 2/5\n",
            "25/25 [==============================] - 2s 62ms/step - loss: 0.2904 - accuracy: 0.8985\n",
            "Epoch 3/5\n",
            "25/25 [==============================] - 2s 62ms/step - loss: 0.2266 - accuracy: 0.9183\n",
            "Epoch 4/5\n",
            "25/25 [==============================] - 2s 61ms/step - loss: 0.1918 - accuracy: 0.9308\n",
            "Epoch 5/5\n",
            "25/25 [==============================] - 2s 62ms/step - loss: 0.1595 - accuracy: 0.9442\n",
            "782/782 [==============================] - 2s 2ms/step - loss: 0.3069 - accuracy: 0.8791\n"
          ]
        }
      ]
    },
    {
      "cell_type": "code",
      "metadata": {
        "colab": {
          "base_uri": "https://localhost:8080/"
        },
        "id": "5_DTylQtzuu-",
        "outputId": "dddf4e39-d4b0-405f-d187-2cd25d309789"
      },
      "source": [
        "result2"
      ],
      "execution_count": 14,
      "outputs": [
        {
          "output_type": "execute_result",
          "data": {
            "text/plain": [
              "[0.3069183826446533, 0.8790799975395203]"
            ]
          },
          "metadata": {},
          "execution_count": 14
        }
      ]
    },
    {
      "cell_type": "code",
      "metadata": {
        "colab": {
          "base_uri": "https://localhost:8080/"
        },
        "id": "9kd6S_Jb2lzD",
        "outputId": "52d22998-40fc-41d5-da0e-4374fdde1e8a"
      },
      "source": [
        "model2.predict(a_test)"
      ],
      "execution_count": 15,
      "outputs": [
        {
          "output_type": "execute_result",
          "data": {
            "text/plain": [
              "array([[0.27883318],\n",
              "       [0.9998001 ],\n",
              "       [0.98439634],\n",
              "       ...,\n",
              "       [0.1364606 ],\n",
              "       [0.09282014],\n",
              "       [0.70980835]], dtype=float32)"
            ]
          },
          "metadata": {},
          "execution_count": 15
        }
      ]
    },
    {
      "cell_type": "markdown",
      "metadata": {
        "id": "_mdxDnVIz2l0"
      },
      "source": [
        "Retraining the Model-3"
      ]
    },
    {
      "cell_type": "code",
      "metadata": {
        "colab": {
          "base_uri": "https://localhost:8080/"
        },
        "id": "sCXv0V8Mz8wJ",
        "outputId": "131d8b12-7481-4cdc-f5ca-e260875c8eac"
      },
      "source": [
        "model3 = keras.Sequential([\n",
        "    layers.Dense(32, activation=\"relu\"),\n",
        "    layers.Dense(32, activation=\"relu\"),\n",
        "    layers.Dense(32, activation=\"relu\"),\n",
        "    layers.Dense(1, activation=\"sigmoid\")\n",
        "])\n",
        "model3.compile(optimizer=\"rmsprop\",\n",
        "              loss=\"binary_crossentropy\",\n",
        "              metrics=[\"accuracy\"])\n",
        "history3 = model3.fit(partial_a_training,\n",
        "                    partial_b_training,\n",
        "                    epochs=20,\n",
        "                    batch_size=512,\n",
        "                    validation_data=(a_valid, b_valid))\n",
        "history_dict3 = history3.history\n",
        "history_dict3.keys()\n",
        "\n"
      ],
      "execution_count": 16,
      "outputs": [
        {
          "output_type": "stream",
          "name": "stdout",
          "text": [
            "Epoch 1/20\n",
            "30/30 [==============================] - 3s 54ms/step - loss: 0.4884 - accuracy: 0.7795 - val_loss: 0.3319 - val_accuracy: 0.8771\n",
            "Epoch 2/20\n",
            "30/30 [==============================] - 1s 44ms/step - loss: 0.2664 - accuracy: 0.8987 - val_loss: 0.4099 - val_accuracy: 0.8297\n",
            "Epoch 3/20\n",
            "30/30 [==============================] - 1s 44ms/step - loss: 0.2014 - accuracy: 0.9244 - val_loss: 0.2923 - val_accuracy: 0.8858\n",
            "Epoch 4/20\n",
            "30/30 [==============================] - 1s 44ms/step - loss: 0.1503 - accuracy: 0.9462 - val_loss: 0.2943 - val_accuracy: 0.8861\n",
            "Epoch 5/20\n",
            "30/30 [==============================] - 1s 45ms/step - loss: 0.1161 - accuracy: 0.9584 - val_loss: 0.3266 - val_accuracy: 0.8851\n",
            "Epoch 6/20\n",
            "30/30 [==============================] - 1s 45ms/step - loss: 0.0948 - accuracy: 0.9669 - val_loss: 0.4700 - val_accuracy: 0.8485\n",
            "Epoch 7/20\n",
            "30/30 [==============================] - 1s 44ms/step - loss: 0.0803 - accuracy: 0.9731 - val_loss: 0.3807 - val_accuracy: 0.8790\n",
            "Epoch 8/20\n",
            "30/30 [==============================] - 1s 44ms/step - loss: 0.0671 - accuracy: 0.9792 - val_loss: 0.4063 - val_accuracy: 0.8782\n",
            "Epoch 9/20\n",
            "30/30 [==============================] - 1s 44ms/step - loss: 0.0505 - accuracy: 0.9856 - val_loss: 0.4439 - val_accuracy: 0.8763\n",
            "Epoch 10/20\n",
            "30/30 [==============================] - 1s 45ms/step - loss: 0.0186 - accuracy: 0.9973 - val_loss: 0.4981 - val_accuracy: 0.8749\n",
            "Epoch 11/20\n",
            "30/30 [==============================] - 1s 45ms/step - loss: 0.0414 - accuracy: 0.9887 - val_loss: 0.5378 - val_accuracy: 0.8731\n",
            "Epoch 12/20\n",
            "30/30 [==============================] - 1s 44ms/step - loss: 0.0098 - accuracy: 0.9984 - val_loss: 1.0540 - val_accuracy: 0.8205\n",
            "Epoch 13/20\n",
            "30/30 [==============================] - 1s 45ms/step - loss: 0.0213 - accuracy: 0.9928 - val_loss: 0.6190 - val_accuracy: 0.8701\n",
            "Epoch 14/20\n",
            "30/30 [==============================] - 1s 44ms/step - loss: 0.0319 - accuracy: 0.9906 - val_loss: 0.7077 - val_accuracy: 0.8601\n",
            "Epoch 15/20\n",
            "30/30 [==============================] - 1s 44ms/step - loss: 0.0029 - accuracy: 0.9999 - val_loss: 0.7050 - val_accuracy: 0.8692\n",
            "Epoch 16/20\n",
            "30/30 [==============================] - 1s 45ms/step - loss: 0.0017 - accuracy: 0.9999 - val_loss: 0.7851 - val_accuracy: 0.8691\n",
            "Epoch 17/20\n",
            "30/30 [==============================] - 1s 45ms/step - loss: 0.0360 - accuracy: 0.9916 - val_loss: 0.8461 - val_accuracy: 0.8640\n",
            "Epoch 18/20\n",
            "30/30 [==============================] - 1s 44ms/step - loss: 7.7818e-04 - accuracy: 0.9999 - val_loss: 0.8533 - val_accuracy: 0.8652\n",
            "Epoch 19/20\n",
            "30/30 [==============================] - 1s 44ms/step - loss: 5.1265e-04 - accuracy: 0.9999 - val_loss: 0.8888 - val_accuracy: 0.8652\n",
            "Epoch 20/20\n",
            "30/30 [==============================] - 1s 44ms/step - loss: 3.3085e-04 - accuracy: 1.0000 - val_loss: 0.9692 - val_accuracy: 0.8655\n"
          ]
        },
        {
          "output_type": "execute_result",
          "data": {
            "text/plain": [
              "dict_keys(['loss', 'accuracy', 'val_loss', 'val_accuracy'])"
            ]
          },
          "metadata": {},
          "execution_count": 16
        }
      ]
    },
    {
      "cell_type": "code",
      "metadata": {
        "colab": {
          "base_uri": "https://localhost:8080/"
        },
        "id": "FCueGdRB5QLZ",
        "outputId": "f59eb179-966a-40ec-dd5e-16e96ebb2db1"
      },
      "source": [
        "model3.fit(a_training, b_training, epochs=1, batch_size=1024)\n",
        "result3 = model.evaluate(a_test, b_test)\n"
      ],
      "execution_count": 17,
      "outputs": [
        {
          "output_type": "stream",
          "name": "stdout",
          "text": [
            "25/25 [==============================] - 2s 63ms/step - loss: 0.3357 - accuracy: 0.9386\n",
            "782/782 [==============================] - 2s 2ms/step - loss: 1.0741 - accuracy: 0.8085\n"
          ]
        }
      ]
    },
    {
      "cell_type": "code",
      "metadata": {
        "colab": {
          "base_uri": "https://localhost:8080/"
        },
        "id": "2Mb64bhn1lsq",
        "outputId": "090d608c-807e-4e79-d3ba-a57d7dce886c"
      },
      "source": [
        "result3"
      ],
      "execution_count": 18,
      "outputs": [
        {
          "output_type": "execute_result",
          "data": {
            "text/plain": [
              "[1.0741240978240967, 0.8084800243377686]"
            ]
          },
          "metadata": {},
          "execution_count": 18
        }
      ]
    },
    {
      "cell_type": "markdown",
      "metadata": {
        "id": "c_FL3dAt2H_K"
      },
      "source": [
        "Plotting Model-3"
      ]
    },
    {
      "cell_type": "code",
      "metadata": {
        "colab": {
          "base_uri": "https://localhost:8080/",
          "height": 573
        },
        "id": "u6xWtOtf2K5S",
        "outputId": "6dcbe151-473b-446e-94dd-41b8ac9bbae4"
      },
      "source": [
        "loss_value3 = history_dict3[\"loss\"]\n",
        "valid_loss_value3 = history_dict3[\"val_loss\"]\n",
        "epochs = range(1, len(loss_value3) + 1)\n",
        "plt.plot(epochs, loss_value3, \"bo\", label=\"Training loss\")\n",
        "plt.plot(epochs, valid_loss_value3, \"b\", label=\"Validation loss\")\n",
        "plt.title(\"Training and validation loss\")\n",
        "plt.xlabel(\"Epochs\")\n",
        "plt.ylabel(\"Loss\")\n",
        "plt.legend()\n",
        "plt.show()\n",
        "plt.clf()\n",
        "acc = history_dict3[\"accuracy\"]\n",
        "val_acc = history_dict3[\"val_accuracy\"]\n",
        "plt.plot(epochs, acc, \"bo\", label=\"Training acc\")\n",
        "plt.plot(epochs, val_acc, \"b\", label=\"Validation acc\")\n",
        "plt.title(\"Training and validation accuracy\")\n",
        "plt.xlabel(\"Epochs\")\n",
        "plt.ylabel(\"Accuracy\")\n",
        "plt.legend()\n",
        "plt.show()"
      ],
      "execution_count": 19,
      "outputs": [
        {
          "output_type": "display_data",
          "data": {
            "image/png": "[encoded data removed]",
            "text/plain": [
              "<Figure size 432x288 with 1 Axes>"
            ]
          },
          "metadata": {
            "needs_background": "light"
          }
        },
        {
          "output_type": "display_data",
          "data": {
            "image/png": "[encoded data removed]",
            "text/plain": [
              "<Figure size 432x288 with 1 Axes>"
            ]
          },
          "metadata": {
            "needs_background": "light"
          }
        }
      ]
    },
    {
      "cell_type": "markdown",
      "metadata": {
        "id": "VJj0c4kU3_IQ"
      },
      "source": [
        "*HYPERTUNING** "
      ]
    },
    {
      "cell_type": "markdown",
      "metadata": {
        "id": "pLLV6ZcQ4PU0"
      },
      "source": [
        "Model 4"
      ]
    },
    {
      "cell_type": "code",
      "metadata": {
        "colab": {
          "base_uri": "https://localhost:8080/"
        },
        "id": "NBfueAkg4Q_Q",
        "outputId": "cc3858ed-ed48-4505-a75e-38fde9891ef7"
      },
      "source": [
        "model4 = keras.Sequential([\n",
        "    layers.Dense(32, activation=\"relu\"),\n",
        "    layers.Dense(32, activation=\"relu\"),\n",
        "    layers.Dense(1, activation=\"sigmoid\")\n",
        "])\n",
        "model4.compile(optimizer=\"rmsprop\",\n",
        "              loss=\"binary_crossentropy\",\n",
        "              metrics=[\"accuracy\"])\n",
        "history4 = model4.fit(partial_a_training,\n",
        "                    partial_b_training,\n",
        "                    epochs=25,\n",
        "                    batch_size=1024,\n",
        "                    validation_data=(a_valid, b_valid))\n",
        "history_dict4 = history4.history\n",
        "history_dict4.keys()"
      ],
      "execution_count": 20,
      "outputs": [
        {
          "output_type": "stream",
          "name": "stdout",
          "text": [
            "Epoch 1/25\n",
            "15/15 [==============================] - 2s 106ms/step - loss: 0.5807 - accuracy: 0.7043 - val_loss: 0.4488 - val_accuracy: 0.8464\n",
            "Epoch 2/25\n",
            "15/15 [==============================] - 1s 78ms/step - loss: 0.3739 - accuracy: 0.8775 - val_loss: 0.3429 - val_accuracy: 0.8814\n",
            "Epoch 3/25\n",
            "15/15 [==============================] - 1s 80ms/step - loss: 0.2766 - accuracy: 0.9101 - val_loss: 0.3301 - val_accuracy: 0.8705\n",
            "Epoch 4/25\n",
            "15/15 [==============================] - 1s 79ms/step - loss: 0.2206 - accuracy: 0.9267 - val_loss: 0.2945 - val_accuracy: 0.8836\n",
            "Epoch 5/25\n",
            "15/15 [==============================] - 1s 79ms/step - loss: 0.1851 - accuracy: 0.9409 - val_loss: 0.2752 - val_accuracy: 0.8904\n",
            "Epoch 6/25\n",
            "15/15 [==============================] - 1s 79ms/step - loss: 0.1585 - accuracy: 0.9493 - val_loss: 0.2790 - val_accuracy: 0.8909\n",
            "Epoch 7/25\n",
            "15/15 [==============================] - 1s 82ms/step - loss: 0.1214 - accuracy: 0.9650 - val_loss: 0.2839 - val_accuracy: 0.8854\n",
            "Epoch 8/25\n",
            "15/15 [==============================] - 1s 81ms/step - loss: 0.1164 - accuracy: 0.9629 - val_loss: 0.2915 - val_accuracy: 0.8860\n",
            "Epoch 9/25\n",
            "15/15 [==============================] - 1s 79ms/step - loss: 0.0824 - accuracy: 0.9800 - val_loss: 0.3438 - val_accuracy: 0.8728\n",
            "Epoch 10/25\n",
            "15/15 [==============================] - 1s 79ms/step - loss: 0.0870 - accuracy: 0.9727 - val_loss: 0.3268 - val_accuracy: 0.8830\n",
            "Epoch 11/25\n",
            "15/15 [==============================] - 1s 81ms/step - loss: 0.0736 - accuracy: 0.9789 - val_loss: 0.3312 - val_accuracy: 0.8818\n",
            "Epoch 12/25\n",
            "15/15 [==============================] - 1s 79ms/step - loss: 0.0563 - accuracy: 0.9855 - val_loss: 0.3889 - val_accuracy: 0.8676\n",
            "Epoch 13/25\n",
            "15/15 [==============================] - 1s 82ms/step - loss: 0.0404 - accuracy: 0.9930 - val_loss: 0.4062 - val_accuracy: 0.8728\n",
            "Epoch 14/25\n",
            "15/15 [==============================] - 1s 79ms/step - loss: 0.0409 - accuracy: 0.9919 - val_loss: 0.3873 - val_accuracy: 0.8776\n",
            "Epoch 15/25\n",
            "15/15 [==============================] - 1s 77ms/step - loss: 0.0483 - accuracy: 0.9853 - val_loss: 0.4029 - val_accuracy: 0.8765\n",
            "Epoch 16/25\n",
            "15/15 [==============================] - 1s 79ms/step - loss: 0.0201 - accuracy: 0.9985 - val_loss: 0.4232 - val_accuracy: 0.8761\n",
            "Epoch 17/25\n",
            "15/15 [==============================] - 1s 80ms/step - loss: 0.0217 - accuracy: 0.9962 - val_loss: 0.8015 - val_accuracy: 0.8162\n",
            "Epoch 18/25\n",
            "15/15 [==============================] - 1s 81ms/step - loss: 0.0280 - accuracy: 0.9927 - val_loss: 0.4575 - val_accuracy: 0.8756\n",
            "Epoch 19/25\n",
            "15/15 [==============================] - 1s 80ms/step - loss: 0.0111 - accuracy: 0.9996 - val_loss: 0.4857 - val_accuracy: 0.8732\n",
            "Epoch 20/25\n",
            "15/15 [==============================] - 1s 81ms/step - loss: 0.0329 - accuracy: 0.9888 - val_loss: 0.5004 - val_accuracy: 0.8723\n",
            "Epoch 21/25\n",
            "15/15 [==============================] - 1s 80ms/step - loss: 0.0080 - accuracy: 0.9997 - val_loss: 0.5116 - val_accuracy: 0.8742\n",
            "Epoch 22/25\n",
            "15/15 [==============================] - 1s 81ms/step - loss: 0.0063 - accuracy: 0.9998 - val_loss: 0.5288 - val_accuracy: 0.8724\n",
            "Epoch 23/25\n",
            "15/15 [==============================] - 1s 83ms/step - loss: 0.0053 - accuracy: 0.9999 - val_loss: 0.5653 - val_accuracy: 0.8711\n",
            "Epoch 24/25\n",
            "15/15 [==============================] - 1s 85ms/step - loss: 0.0287 - accuracy: 0.9913 - val_loss: 0.5782 - val_accuracy: 0.8715\n",
            "Epoch 25/25\n",
            "15/15 [==============================] - 1s 83ms/step - loss: 0.0035 - accuracy: 0.9999 - val_loss: 0.5898 - val_accuracy: 0.8710\n"
          ]
        },
        {
          "output_type": "execute_result",
          "data": {
            "text/plain": [
              "dict_keys(['loss', 'accuracy', 'val_loss', 'val_accuracy'])"
            ]
          },
          "metadata": {},
          "execution_count": 20
        }
      ]
    },
    {
      "cell_type": "markdown",
      "metadata": {
        "id": "AXfaC5cL4vdQ"
      },
      "source": [
        "Importing and Plotting Model 4"
      ]
    },
    {
      "cell_type": "code",
      "metadata": {
        "colab": {
          "base_uri": "https://localhost:8080/",
          "height": 573
        },
        "id": "VNXA-6DC4yJy",
        "outputId": "c0c76ae7-d1b5-4af8-a957-f14a45f616aa"
      },
      "source": [
        "import matplotlib.pyplot as plt\n",
        "loss_value4 = history_dict4[\"loss\"]\n",
        "val_loss_value4 = history_dict4[\"val_loss\"]\n",
        "epochs = range(1, len(loss_value4) + 1)\n",
        "plt.plot(epochs, loss_value4, \"bo\", label=\"Training loss\")\n",
        "plt.plot(epochs, val_loss_value4, \"b\", label=\"Validation loss\")\n",
        "plt.title(\"Training and validation loss\")\n",
        "plt.xlabel(\"Epochs\")\n",
        "plt.ylabel(\"Loss\")\n",
        "plt.legend()\n",
        "plt.show()\n",
        "plt.clf()\n",
        "acc = history_dict4[\"accuracy\"]\n",
        "val_acc = history_dict4[\"val_accuracy\"]\n",
        "plt.plot(epochs, acc, \"bo\", label=\"Training acc\")\n",
        "plt.plot(epochs, val_acc, \"b\", label=\"Validation acc\")\n",
        "plt.title(\"Training and validation accuracy\")\n",
        "plt.xlabel(\"Epochs\")\n",
        "plt.ylabel(\"Accuracy\")\n",
        "plt.legend()\n",
        "plt.show()"
      ],
      "execution_count": 23,
      "outputs": [
        {
          "output_type": "display_data",
          "data": {
            "image/png": "[encoded data removed]",
            "text/plain": [
              "<Figure size 432x288 with 1 Axes>"
            ]
          },
          "metadata": {
            "needs_background": "light"
          }
        },
        {
          "output_type": "display_data",
          "data": {
            "image/png": "[encoded data removed]",
            "text/plain": [
              "<Figure size 432x288 with 1 Axes>"
            ]
          },
          "metadata": {
            "needs_background": "light"
          }
        }
      ]
    },
    {
      "cell_type": "code",
      "metadata": {
        "colab": {
          "base_uri": "https://localhost:8080/"
        },
        "id": "D6WGPVDc5BDJ",
        "outputId": "8fbad82f-4694-45f4-ee96-37eec79c7a00"
      },
      "source": [
        "model4.fit(a_training, b_training, epochs=5, batch_size=512)\n",
        "result4 = model4.evaluate(a_test, b_test)\n"
      ],
      "execution_count": 24,
      "outputs": [
        {
          "output_type": "stream",
          "name": "stdout",
          "text": [
            "Epoch 1/5\n",
            "49/49 [==============================] - 2s 36ms/step - loss: 0.1919 - accuracy: 0.9474\n",
            "Epoch 2/5\n",
            "49/49 [==============================] - 2s 36ms/step - loss: 0.1167 - accuracy: 0.9637\n",
            "Epoch 3/5\n",
            "49/49 [==============================] - 2s 36ms/step - loss: 0.0810 - accuracy: 0.9744\n",
            "Epoch 4/5\n",
            "49/49 [==============================] - 2s 36ms/step - loss: 0.0594 - accuracy: 0.9817\n",
            "Epoch 5/5\n",
            "49/49 [==============================] - 2s 36ms/step - loss: 0.0392 - accuracy: 0.9890\n",
            "782/782 [==============================] - 2s 2ms/step - loss: 0.5565 - accuracy: 0.8628\n"
          ]
        }
      ]
    },
    {
      "cell_type": "code",
      "metadata": {
        "colab": {
          "base_uri": "https://localhost:8080/"
        },
        "id": "0hpCZsi75Z5f",
        "outputId": "35189c68-195d-4c70-ef8a-c34adf96fffb"
      },
      "source": [
        "result4"
      ],
      "execution_count": 25,
      "outputs": [
        {
          "output_type": "execute_result",
          "data": {
            "text/plain": [
              "[0.556515097618103, 0.8627600073814392]"
            ]
          },
          "metadata": {},
          "execution_count": 25
        }
      ]
    },
    {
      "cell_type": "markdown",
      "metadata": {
        "id": "r12-YLz85dyY"
      },
      "source": [
        "Model 5"
      ]
    },
    {
      "cell_type": "code",
      "metadata": {
        "colab": {
          "base_uri": "https://localhost:8080/"
        },
        "id": "FjKPQzsL5qHd",
        "outputId": "787c0854-7274-4844-ca70-2b613a954143"
      },
      "source": [
        "model5 = keras.Sequential([\n",
        "    layers.Dense(64, activation=\"relu\"),\n",
        "    layers.Dense(64, activation=\"relu\"),\n",
        "    layers.Dense(1, activation=\"sigmoid\")\n",
        "])\n",
        "model5.compile(optimizer=\"rmsprop\",\n",
        "              loss=\"binary_crossentropy\",\n",
        "              metrics=[\"accuracy\"])\n",
        "history5 = model5.fit(partial_a_training,\n",
        "                    partial_b_training,\n",
        "                    epochs=15,\n",
        "                    batch_size=512,\n",
        "                    validation_data=(a_valid, b_valid))\n",
        "history_dict5 = history5.history\n",
        "history_dict5.keys()"
      ],
      "execution_count": 26,
      "outputs": [
        {
          "output_type": "stream",
          "name": "stdout",
          "text": [
            "Epoch 1/15\n",
            "30/30 [==============================] - 3s 66ms/step - loss: 0.4727 - accuracy: 0.7817 - val_loss: 0.3750 - val_accuracy: 0.8442\n",
            "Epoch 2/15\n",
            "30/30 [==============================] - 2s 56ms/step - loss: 0.2686 - accuracy: 0.8999 - val_loss: 0.2919 - val_accuracy: 0.8831\n",
            "Epoch 3/15\n",
            "30/30 [==============================] - 2s 57ms/step - loss: 0.1895 - accuracy: 0.9330 - val_loss: 0.2848 - val_accuracy: 0.8860\n",
            "Epoch 4/15\n",
            "30/30 [==============================] - 2s 57ms/step - loss: 0.1460 - accuracy: 0.9471 - val_loss: 0.2874 - val_accuracy: 0.8892\n",
            "Epoch 5/15\n",
            "30/30 [==============================] - 2s 59ms/step - loss: 0.0958 - accuracy: 0.9678 - val_loss: 0.3270 - val_accuracy: 0.8836\n",
            "Epoch 6/15\n",
            "30/30 [==============================] - 2s 58ms/step - loss: 0.0930 - accuracy: 0.9686 - val_loss: 0.3364 - val_accuracy: 0.8821\n",
            "Epoch 7/15\n",
            "30/30 [==============================] - 2s 57ms/step - loss: 0.0546 - accuracy: 0.9841 - val_loss: 0.3704 - val_accuracy: 0.8807\n",
            "Epoch 8/15\n",
            "30/30 [==============================] - 2s 57ms/step - loss: 0.0449 - accuracy: 0.9869 - val_loss: 0.4136 - val_accuracy: 0.8805\n",
            "Epoch 9/15\n",
            "30/30 [==============================] - 2s 56ms/step - loss: 0.0377 - accuracy: 0.9879 - val_loss: 0.4412 - val_accuracy: 0.8805\n",
            "Epoch 10/15\n",
            "30/30 [==============================] - 2s 56ms/step - loss: 0.0123 - accuracy: 0.9985 - val_loss: 0.7144 - val_accuracy: 0.8433\n",
            "Epoch 11/15\n",
            "30/30 [==============================] - 2s 56ms/step - loss: 0.0135 - accuracy: 0.9967 - val_loss: 0.5490 - val_accuracy: 0.8742\n",
            "Epoch 12/15\n",
            "30/30 [==============================] - 2s 57ms/step - loss: 0.0316 - accuracy: 0.9905 - val_loss: 0.5743 - val_accuracy: 0.8754\n",
            "Epoch 13/15\n",
            "30/30 [==============================] - 2s 57ms/step - loss: 0.0025 - accuracy: 0.9999 - val_loss: 0.6238 - val_accuracy: 0.8726\n",
            "Epoch 14/15\n",
            "30/30 [==============================] - 2s 57ms/step - loss: 0.0176 - accuracy: 0.9945 - val_loss: 0.7045 - val_accuracy: 0.8690\n",
            "Epoch 15/15\n",
            "30/30 [==============================] - 2s 57ms/step - loss: 0.0016 - accuracy: 0.9999 - val_loss: 0.6880 - val_accuracy: 0.8726\n"
          ]
        },
        {
          "output_type": "execute_result",
          "data": {
            "text/plain": [
              "dict_keys(['loss', 'accuracy', 'val_loss', 'val_accuracy'])"
            ]
          },
          "metadata": {},
          "execution_count": 26
        }
      ]
    },
    {
      "cell_type": "markdown",
      "metadata": {
        "id": "yuI05UX96DcT"
      },
      "source": [
        "Importing and Plotting"
      ]
    },
    {
      "cell_type": "code",
      "metadata": {
        "colab": {
          "base_uri": "https://localhost:8080/",
          "height": 573
        },
        "id": "xFTrU1PL6G2s",
        "outputId": "cc80ddb9-7fca-4f5a-ad0e-26024d3f10be"
      },
      "source": [
        "import matplotlib.pyplot as plt\n",
        "loss_value5 = history_dict5[\"loss\"]\n",
        "val_loss_value5 = history_dict5[\"val_loss\"]\n",
        "epochs = range(1, len(loss_value5) + 1)\n",
        "plt.plot(epochs, val_loss_value5, \"bo\", label=\"Training loss\")\n",
        "plt.plot(epochs, val_loss_value5, \"b\", label=\"Validation loss\")\n",
        "plt.title(\"Training and validation loss\")\n",
        "plt.xlabel(\"Epochs\")\n",
        "plt.ylabel(\"Loss\")\n",
        "plt.legend()\n",
        "plt.show()\n",
        "plt.clf()\n",
        "acc = history_dict5[\"accuracy\"]\n",
        "val_acc = history_dict5[\"val_accuracy\"]\n",
        "plt.plot(epochs, acc, \"bo\", label=\"Training acc\")\n",
        "plt.plot(epochs, val_acc, \"b\", label=\"Validation acc\")\n",
        "plt.title(\"Training and validation accuracy\")\n",
        "plt.xlabel(\"Epochs\")\n",
        "plt.ylabel(\"Accuracy\")\n",
        "plt.legend()\n",
        "plt.show()"
      ],
      "execution_count": 28,
      "outputs": [
        {
          "output_type": "display_data",
          "data": {
            "image/png": "[encoded data removed]",
            "text/plain": [
              "<Figure size 432x288 with 1 Axes>"
            ]
          },
          "metadata": {
            "needs_background": "light"
          }
        },
        {
          "output_type": "display_data",
          "data": {
            "image/png": "[encoded data removed]",
            "text/plain": [
              "<Figure size 432x288 with 1 Axes>"
            ]
          },
          "metadata": {
            "needs_background": "light"
          }
        }
      ]
    },
    {
      "cell_type": "code",
      "metadata": {
        "colab": {
          "base_uri": "https://localhost:8080/"
        },
        "id": "_nNii_Nj6Q0q",
        "outputId": "a162f538-a0c3-42be-8d4e-f6e4f4ec7a89"
      },
      "source": [
        "model5.fit(a_training, b_training, epochs=2, batch_size=512)\n",
        "result5 = model5.evaluate(a_test, b_test)\n"
      ],
      "execution_count": 29,
      "outputs": [
        {
          "output_type": "stream",
          "name": "stdout",
          "text": [
            "Epoch 1/2\n",
            "49/49 [==============================] - 2s 45ms/step - loss: 0.1860 - accuracy: 0.9476\n",
            "Epoch 2/2\n",
            "49/49 [==============================] - 2s 44ms/step - loss: 0.0933 - accuracy: 0.9699\n",
            "782/782 [==============================] - 2s 3ms/step - loss: 0.4154 - accuracy: 0.8680\n"
          ]
        }
      ]
    },
    {
      "cell_type": "code",
      "metadata": {
        "colab": {
          "base_uri": "https://localhost:8080/"
        },
        "id": "VaYvNk-T6dpw",
        "outputId": "1611f022-9462-4e6f-9cd4-6e0ce4827139"
      },
      "source": [
        "result5"
      ],
      "execution_count": 30,
      "outputs": [
        {
          "output_type": "execute_result",
          "data": {
            "text/plain": [
              "[0.4154382050037384, 0.8679599761962891]"
            ]
          },
          "metadata": {},
          "execution_count": 30
        }
      ]
    },
    {
      "cell_type": "markdown",
      "metadata": {
        "id": "NdiJUPPK6hAI"
      },
      "source": [
        "Model 6"
      ]
    },
    {
      "cell_type": "code",
      "metadata": {
        "colab": {
          "base_uri": "https://localhost:8080/"
        },
        "id": "v8cM2cTb6jtq",
        "outputId": "16913d1a-4f64-4902-af09-33dbc3be0c8d"
      },
      "source": [
        "model6 = keras.Sequential([\n",
        "    layers.Dense(128, activation=\"relu\"),\n",
        "    layers.Dense(128, activation=\"relu\"),\n",
        "    layers.Dense(1, activation=\"sigmoid\")\n",
        "])\n",
        "model6.compile(optimizer=\"rmsprop\",\n",
        "              loss=\"binary_crossentropy\",\n",
        "              metrics=[\"accuracy\"])\n",
        "history6 = model6.fit(partial_a_training,\n",
        "                    partial_b_training,\n",
        "                    epochs=20,\n",
        "                    batch_size=512,\n",
        "                    validation_data=(a_valid, b_valid))\n",
        "history_dict6 = history6.history\n",
        "history_dict6.keys()"
      ],
      "execution_count": 31,
      "outputs": [
        {
          "output_type": "stream",
          "name": "stdout",
          "text": [
            "Epoch 1/20\n",
            "30/30 [==============================] - 4s 100ms/step - loss: 0.4877 - accuracy: 0.7703 - val_loss: 0.3386 - val_accuracy: 0.8612\n",
            "Epoch 2/20\n",
            "30/30 [==============================] - 3s 88ms/step - loss: 0.2502 - accuracy: 0.9041 - val_loss: 0.4763 - val_accuracy: 0.8034\n",
            "Epoch 3/20\n",
            "30/30 [==============================] - 3s 89ms/step - loss: 0.1822 - accuracy: 0.9284 - val_loss: 0.2998 - val_accuracy: 0.8800\n",
            "Epoch 4/20\n",
            "30/30 [==============================] - 3s 90ms/step - loss: 0.1323 - accuracy: 0.9488 - val_loss: 0.2914 - val_accuracy: 0.8881\n",
            "Epoch 5/20\n",
            "30/30 [==============================] - 3s 91ms/step - loss: 0.0753 - accuracy: 0.9751 - val_loss: 0.4117 - val_accuracy: 0.8722\n",
            "Epoch 6/20\n",
            "30/30 [==============================] - 3s 90ms/step - loss: 0.0696 - accuracy: 0.9785 - val_loss: 0.3810 - val_accuracy: 0.8821\n",
            "Epoch 7/20\n",
            "30/30 [==============================] - 3s 89ms/step - loss: 0.0743 - accuracy: 0.9832 - val_loss: 0.4215 - val_accuracy: 0.8777\n",
            "Epoch 8/20\n",
            "30/30 [==============================] - 3s 89ms/step - loss: 0.0075 - accuracy: 0.9995 - val_loss: 0.4752 - val_accuracy: 0.8813\n",
            "Epoch 9/20\n",
            "30/30 [==============================] - 3s 90ms/step - loss: 0.0262 - accuracy: 0.9951 - val_loss: 0.8584 - val_accuracy: 0.8309\n",
            "Epoch 10/20\n",
            "30/30 [==============================] - 3s 90ms/step - loss: 0.0041 - accuracy: 0.9993 - val_loss: 0.5673 - val_accuracy: 0.8783\n",
            "Epoch 11/20\n",
            "30/30 [==============================] - 3s 90ms/step - loss: 9.9234e-04 - accuracy: 1.0000 - val_loss: 0.6420 - val_accuracy: 0.8789\n",
            "Epoch 12/20\n",
            "30/30 [==============================] - 3s 91ms/step - loss: 4.3589e-04 - accuracy: 1.0000 - val_loss: 0.7274 - val_accuracy: 0.8775\n",
            "Epoch 13/20\n",
            "30/30 [==============================] - 3s 90ms/step - loss: 0.1145 - accuracy: 0.9870 - val_loss: 0.7572 - val_accuracy: 0.8762\n",
            "Epoch 14/20\n",
            "30/30 [==============================] - 3s 89ms/step - loss: 1.6889e-04 - accuracy: 1.0000 - val_loss: 0.7610 - val_accuracy: 0.8753\n",
            "Epoch 15/20\n",
            "30/30 [==============================] - 3s 91ms/step - loss: 1.0228e-04 - accuracy: 1.0000 - val_loss: 0.7899 - val_accuracy: 0.8760\n",
            "Epoch 16/20\n",
            "30/30 [==============================] - 3s 91ms/step - loss: 6.4853e-05 - accuracy: 1.0000 - val_loss: 0.8415 - val_accuracy: 0.8761\n",
            "Epoch 17/20\n",
            "30/30 [==============================] - 3s 89ms/step - loss: 3.3919e-05 - accuracy: 1.0000 - val_loss: 0.9226 - val_accuracy: 0.8760\n",
            "Epoch 18/20\n",
            "30/30 [==============================] - 3s 89ms/step - loss: 1.3602e-05 - accuracy: 1.0000 - val_loss: 1.0257 - val_accuracy: 0.8754\n",
            "Epoch 19/20\n",
            "30/30 [==============================] - 3s 90ms/step - loss: 0.1048 - accuracy: 0.9897 - val_loss: 0.9945 - val_accuracy: 0.8758\n",
            "Epoch 20/20\n",
            "30/30 [==============================] - 3s 92ms/step - loss: 5.2277e-06 - accuracy: 1.0000 - val_loss: 1.0042 - val_accuracy: 0.8756\n"
          ]
        },
        {
          "output_type": "execute_result",
          "data": {
            "text/plain": [
              "dict_keys(['loss', 'accuracy', 'val_loss', 'val_accuracy'])"
            ]
          },
          "metadata": {},
          "execution_count": 31
        }
      ]
    },
    {
      "cell_type": "markdown",
      "metadata": {
        "id": "8aHhJMvN6xTv"
      },
      "source": [
        "Importing and Plotting"
      ]
    },
    {
      "cell_type": "code",
      "metadata": {
        "colab": {
          "base_uri": "https://localhost:8080/",
          "height": 573
        },
        "id": "8ky_LUCM6zcC",
        "outputId": "9bdbcf9b-0fef-4af4-94eb-8c8787ec1227"
      },
      "source": [
        "import matplotlib.pyplot as plt\n",
        "loss_value6 = history_dict6[\"loss\"]\n",
        "val_loss_value6 = history_dict6[\"val_loss\"]\n",
        "epochs = range(1, len(loss_value6) + 1)\n",
        "plt.plot(epochs, loss_value6, \"bo\", label=\"Training loss\")\n",
        "plt.plot(epochs, val_loss_value6, \"b\", label=\"Validation loss\")\n",
        "plt.title(\"Training and validation loss\")\n",
        "plt.xlabel(\"Epochs\")\n",
        "plt.ylabel(\"Loss\")\n",
        "plt.legend()\n",
        "plt.show()\n",
        "plt.clf()\n",
        "acc = history_dict6[\"accuracy\"]\n",
        "val_acc = history_dict6[\"val_accuracy\"]\n",
        "plt.plot(epochs, acc, \"bo\", label=\"Training acc\")\n",
        "plt.plot(epochs, val_acc, \"b\", label=\"Validation acc\")\n",
        "plt.title(\"Training and validation accuracy\")\n",
        "plt.xlabel(\"Epochs\")\n",
        "plt.ylabel(\"Accuracy\")\n",
        "plt.legend()\n",
        "plt.show()"
      ],
      "execution_count": 32,
      "outputs": [
        {
          "output_type": "display_data",
          "data": {
            "image/png": "[encoded data removed]",
            "text/plain": [
              "<Figure size 432x288 with 1 Axes>"
            ]
          },
          "metadata": {
            "needs_background": "light"
          }
        },
        {
          "output_type": "display_data",
          "data": {
            "image/png": "[encoded data removed]",
            "text/plain": [
              "<Figure size 432x288 with 1 Axes>"
            ]
          },
          "metadata": {
            "needs_background": "light"
          }
        }
      ]
    },
    {
      "cell_type": "code",
      "metadata": {
        "colab": {
          "base_uri": "https://localhost:8080/"
        },
        "id": "O6mbrUd567bT",
        "outputId": "fd8a39b3-c93e-4cb5-b517-f71475f5485c"
      },
      "source": [
        "model6.fit(a_training, b_training, epochs=3, batch_size=512)\n",
        "result6 = model6.evaluate(a_test, b_test)\n"
      ],
      "execution_count": 33,
      "outputs": [
        {
          "output_type": "stream",
          "name": "stdout",
          "text": [
            "Epoch 1/3\n",
            "49/49 [==============================] - 4s 72ms/step - loss: 0.2085 - accuracy: 0.9470\n",
            "Epoch 2/3\n",
            "49/49 [==============================] - 4s 72ms/step - loss: 0.0760 - accuracy: 0.9744\n",
            "Epoch 3/3\n",
            "49/49 [==============================] - 4s 71ms/step - loss: 0.0357 - accuracy: 0.9887\n",
            "782/782 [==============================] - 3s 4ms/step - loss: 0.5717 - accuracy: 0.8649\n"
          ]
        }
      ]
    },
    {
      "cell_type": "code",
      "metadata": {
        "colab": {
          "base_uri": "https://localhost:8080/"
        },
        "id": "kbW3ZO_H7EL8",
        "outputId": "c29f4ee9-d1c2-47e1-ee43-234b64c3e6ff"
      },
      "source": [
        "result6"
      ],
      "execution_count": 34,
      "outputs": [
        {
          "output_type": "execute_result",
          "data": {
            "text/plain": [
              "[0.5716785788536072, 0.8649200201034546]"
            ]
          },
          "metadata": {},
          "execution_count": 34
        }
      ]
    },
    {
      "cell_type": "markdown",
      "metadata": {
        "id": "a7i873_N7K-E"
      },
      "source": [
        "## **LOSS FUNCTION**"
      ]
    },
    {
      "cell_type": "markdown",
      "metadata": {
        "id": "TLCzSijY7SLO"
      },
      "source": [
        "Model 7(MSE)"
      ]
    },
    {
      "cell_type": "code",
      "metadata": {
        "colab": {
          "base_uri": "https://localhost:8080/"
        },
        "id": "7n-iktIl7Tlt",
        "outputId": "8e3d34b1-88ca-46ed-dc31-ad03b9b90dcc"
      },
      "source": [
        "model7_MSE = keras.Sequential([\n",
        "    layers.Dense(16, activation=\"relu\"),\n",
        "    layers.Dense(16, activation=\"relu\"),\n",
        "    layers.Dense(1, activation=\"sigmoid\")\n",
        "])\n",
        "model7_MSE.compile(optimizer=\"rmsprop\",\n",
        "              loss=\"mse\",\n",
        "              metrics=[\"accuracy\"])\n",
        "history_model7_MSE = model7_MSE.fit(partial_a_training,\n",
        "                    partial_b_training,\n",
        "                    epochs=25,\n",
        "                    batch_size=512,\n",
        "                    validation_data=(a_valid, b_valid))\n",
        "history7_dict_MSE = history_model7_MSE.history\n",
        "history7_dict_MSE.keys()"
      ],
      "execution_count": 37,
      "outputs": [
        {
          "output_type": "stream",
          "name": "stdout",
          "text": [
            "Epoch 1/25\n",
            "30/30 [==============================] - 2s 45ms/step - loss: 0.1708 - accuracy: 0.8031 - val_loss: 0.1234 - val_accuracy: 0.8687\n",
            "Epoch 2/25\n",
            "30/30 [==============================] - 1s 34ms/step - loss: 0.0960 - accuracy: 0.8996 - val_loss: 0.0962 - val_accuracy: 0.8853\n",
            "Epoch 3/25\n",
            "30/30 [==============================] - 1s 34ms/step - loss: 0.0692 - accuracy: 0.9250 - val_loss: 0.0907 - val_accuracy: 0.8833\n",
            "Epoch 4/25\n",
            "30/30 [==============================] - 1s 35ms/step - loss: 0.0535 - accuracy: 0.9436 - val_loss: 0.0826 - val_accuracy: 0.8904\n",
            "Epoch 5/25\n",
            "30/30 [==============================] - 1s 38ms/step - loss: 0.0429 - accuracy: 0.9562 - val_loss: 0.0852 - val_accuracy: 0.8856\n",
            "Epoch 6/25\n",
            "30/30 [==============================] - 1s 35ms/step - loss: 0.0347 - accuracy: 0.9654 - val_loss: 0.0917 - val_accuracy: 0.8745\n",
            "Epoch 7/25\n",
            "30/30 [==============================] - 1s 35ms/step - loss: 0.0290 - accuracy: 0.9714 - val_loss: 0.0847 - val_accuracy: 0.8837\n",
            "Epoch 8/25\n",
            "30/30 [==============================] - 1s 35ms/step - loss: 0.0254 - accuracy: 0.9760 - val_loss: 0.0930 - val_accuracy: 0.8740\n",
            "Epoch 9/25\n",
            "30/30 [==============================] - 1s 34ms/step - loss: 0.0196 - accuracy: 0.9829 - val_loss: 0.0894 - val_accuracy: 0.8795\n",
            "Epoch 10/25\n",
            "30/30 [==============================] - 1s 34ms/step - loss: 0.0178 - accuracy: 0.9835 - val_loss: 0.0917 - val_accuracy: 0.8776\n",
            "Epoch 11/25\n",
            "30/30 [==============================] - 1s 35ms/step - loss: 0.0140 - accuracy: 0.9886 - val_loss: 0.0932 - val_accuracy: 0.8782\n",
            "Epoch 12/25\n",
            "30/30 [==============================] - 1s 36ms/step - loss: 0.0124 - accuracy: 0.9896 - val_loss: 0.0972 - val_accuracy: 0.8721\n",
            "Epoch 13/25\n",
            "30/30 [==============================] - 1s 35ms/step - loss: 0.0102 - accuracy: 0.9922 - val_loss: 0.0979 - val_accuracy: 0.8738\n",
            "Epoch 14/25\n",
            "30/30 [==============================] - 1s 35ms/step - loss: 0.0093 - accuracy: 0.9925 - val_loss: 0.1006 - val_accuracy: 0.8754\n",
            "Epoch 15/25\n",
            "30/30 [==============================] - 1s 35ms/step - loss: 0.0074 - accuracy: 0.9943 - val_loss: 0.1024 - val_accuracy: 0.8708\n",
            "Epoch 16/25\n",
            "30/30 [==============================] - 1s 36ms/step - loss: 0.0070 - accuracy: 0.9941 - val_loss: 0.1037 - val_accuracy: 0.8694\n",
            "Epoch 17/25\n",
            "30/30 [==============================] - 1s 36ms/step - loss: 0.0053 - accuracy: 0.9962 - val_loss: 0.1047 - val_accuracy: 0.8703\n",
            "Epoch 18/25\n",
            "30/30 [==============================] - 1s 35ms/step - loss: 0.0052 - accuracy: 0.9957 - val_loss: 0.1060 - val_accuracy: 0.8699\n",
            "Epoch 19/25\n",
            "30/30 [==============================] - 1s 35ms/step - loss: 0.0045 - accuracy: 0.9966 - val_loss: 0.1087 - val_accuracy: 0.8675\n",
            "Epoch 20/25\n",
            "30/30 [==============================] - 1s 36ms/step - loss: 0.0047 - accuracy: 0.9960 - val_loss: 0.1092 - val_accuracy: 0.8677\n",
            "Epoch 21/25\n",
            "30/30 [==============================] - 1s 35ms/step - loss: 0.0032 - accuracy: 0.9973 - val_loss: 0.1106 - val_accuracy: 0.8656\n",
            "Epoch 22/25\n",
            "30/30 [==============================] - 1s 35ms/step - loss: 0.0045 - accuracy: 0.9956 - val_loss: 0.1111 - val_accuracy: 0.8673\n",
            "Epoch 23/25\n",
            "30/30 [==============================] - 1s 35ms/step - loss: 0.0029 - accuracy: 0.9973 - val_loss: 0.1122 - val_accuracy: 0.8659\n",
            "Epoch 24/25\n",
            "30/30 [==============================] - 1s 35ms/step - loss: 0.0028 - accuracy: 0.9974 - val_loss: 0.1156 - val_accuracy: 0.8612\n",
            "Epoch 25/25\n",
            "30/30 [==============================] - 1s 35ms/step - loss: 0.0037 - accuracy: 0.9960 - val_loss: 0.1153 - val_accuracy: 0.8630\n"
          ]
        },
        {
          "output_type": "execute_result",
          "data": {
            "text/plain": [
              "dict_keys(['loss', 'accuracy', 'val_loss', 'val_accuracy'])"
            ]
          },
          "metadata": {},
          "execution_count": 37
        }
      ]
    },
    {
      "cell_type": "markdown",
      "metadata": {
        "id": "tfsYWGhJ712G"
      },
      "source": [
        "Plotting"
      ]
    },
    {
      "cell_type": "code",
      "metadata": {
        "colab": {
          "base_uri": "https://localhost:8080/",
          "height": 573
        },
        "id": "76K0U0mb73yK",
        "outputId": "c967dea5-5a8b-4c48-c71e-bd6fa3c8f614"
      },
      "source": [
        "import matplotlib.pyplot as plt\n",
        "loss_value7 = history7_dict_MSE[\"loss\"]\n",
        "val_loss_value7 = history7_dict_MSE[\"val_loss\"]\n",
        "epochs = range(1, len(loss_value7) + 1)\n",
        "plt.plot(epochs, loss_value7, \"bo\", label=\"Training loss\")\n",
        "plt.plot(epochs, val_loss_value7, \"b\", label=\"Validation loss\")\n",
        "plt.title(\"Training and validation loss\")\n",
        "plt.xlabel(\"Epochs\")\n",
        "plt.ylabel(\"Loss\")\n",
        "plt.legend()\n",
        "plt.show()\n",
        "plt.clf()\n",
        "acc = history7_dict_MSE[\"accuracy\"]\n",
        "val_acc = history7_dict_MSE[\"val_accuracy\"]\n",
        "plt.plot(epochs, acc, \"bo\", label=\"Training acc\")\n",
        "plt.plot(epochs, val_acc, \"b\", label=\"Validation acc\")\n",
        "plt.title(\"Training and validation accuracy\")\n",
        "plt.xlabel(\"Epochs\")\n",
        "plt.ylabel(\"Accuracy\")\n",
        "plt.legend()\n",
        "plt.show()"
      ],
      "execution_count": 38,
      "outputs": [
        {
          "output_type": "display_data",
          "data": {
            "image/png": "[encoded data removed]",
            "text/plain": [
              "<Figure size 432x288 with 1 Axes>"
            ]
          },
          "metadata": {
            "needs_background": "light"
          }
        },
        {
          "output_type": "display_data",
          "data": {
            "image/png": "[encoded data removed]",
            "text/plain": [
              "<Figure size 432x288 with 1 Axes>"
            ]
          },
          "metadata": {
            "needs_background": "light"
          }
        }
      ]
    },
    {
      "cell_type": "code",
      "metadata": {
        "colab": {
          "base_uri": "https://localhost:8080/"
        },
        "id": "MJnxDvxj8FXY",
        "outputId": "8d479e37-fa09-4fb4-f4c9-af3a65aa0aa9"
      },
      "source": [
        "model7_MSE.fit(a_training, b_training, epochs=3, batch_size=512)\n",
        "result7_MSE = model7_MSE.evaluate(a_test, b_test)\n"
      ],
      "execution_count": 39,
      "outputs": [
        {
          "output_type": "stream",
          "name": "stdout",
          "text": [
            "Epoch 1/3\n",
            "49/49 [==============================] - 1s 28ms/step - loss: 0.0465 - accuracy: 0.9447\n",
            "Epoch 2/3\n",
            "49/49 [==============================] - 1s 28ms/step - loss: 0.0349 - accuracy: 0.9600\n",
            "Epoch 3/3\n",
            "49/49 [==============================] - 1s 27ms/step - loss: 0.0294 - accuracy: 0.9678\n",
            "782/782 [==============================] - 2s 2ms/step - loss: 0.1181 - accuracy: 0.8589\n"
          ]
        }
      ]
    },
    {
      "cell_type": "code",
      "metadata": {
        "colab": {
          "base_uri": "https://localhost:8080/"
        },
        "id": "2nyMplG68RqE",
        "outputId": "cd3d940a-53c7-44a4-f530-9290451706f6"
      },
      "source": [
        "result7_MSE"
      ],
      "execution_count": 40,
      "outputs": [
        {
          "output_type": "execute_result",
          "data": {
            "text/plain": [
              "[0.11809080839157104, 0.8589199781417847]"
            ]
          },
          "metadata": {},
          "execution_count": 40
        }
      ]
    },
    {
      "cell_type": "markdown",
      "metadata": {
        "id": "9babuM1U8ViA"
      },
      "source": [
        "### **Activation function**"
      ]
    },
    {
      "cell_type": "markdown",
      "metadata": {
        "id": "Rc_RmSO28a_m"
      },
      "source": [
        "Model 8 ( Activation function-tanh)"
      ]
    },
    {
      "cell_type": "code",
      "metadata": {
        "colab": {
          "base_uri": "https://localhost:8080/"
        },
        "id": "2N3C3aFM8iA6",
        "outputId": "451e6ff7-edc6-4674-bae2-2d861d571ed9"
      },
      "source": [
        "    model8_tanh = keras.Sequential([\n",
        "    layers.Dense(32, activation=\"tanh\"),\n",
        "    layers.Dense(32, activation=\"tanh\"),\n",
        "    layers.Dense(1, activation=\"sigmoid\")\n",
        "])\n",
        "model8_tanh.compile(optimizer=\"rmsprop\",\n",
        "              loss=\"binary_crossentropy\",\n",
        "              metrics=[\"accuracy\"])\n",
        "history_model8_tanh = model8_tanh.fit(partial_a_training,\n",
        "                    partial_b_training,\n",
        "                    epochs=20,\n",
        "                    batch_size=1024,\n",
        "                    validation_data=(a_valid, b_valid))\n",
        "history8_dict_tanh = history_model8_tanh.history\n",
        "history8_dict_tanh.keys()"
      ],
      "execution_count": 41,
      "outputs": [
        {
          "output_type": "stream",
          "name": "stdout",
          "text": [
            "Epoch 1/20\n",
            "15/15 [==============================] - 2s 97ms/step - loss: 0.5340 - accuracy: 0.7395 - val_loss: 0.4154 - val_accuracy: 0.8308\n",
            "Epoch 2/20\n",
            "15/15 [==============================] - 1s 77ms/step - loss: 0.3209 - accuracy: 0.8821 - val_loss: 0.3180 - val_accuracy: 0.8746\n",
            "Epoch 3/20\n",
            "15/15 [==============================] - 1s 76ms/step - loss: 0.2337 - accuracy: 0.9143 - val_loss: 0.3060 - val_accuracy: 0.8730\n",
            "Epoch 4/20\n",
            "15/15 [==============================] - 1s 77ms/step - loss: 0.1769 - accuracy: 0.9369 - val_loss: 0.3787 - val_accuracy: 0.8459\n",
            "Epoch 5/20\n",
            "15/15 [==============================] - 1s 77ms/step - loss: 0.1303 - accuracy: 0.9571 - val_loss: 0.4023 - val_accuracy: 0.8513\n",
            "Epoch 6/20\n",
            "15/15 [==============================] - 1s 77ms/step - loss: 0.1253 - accuracy: 0.9523 - val_loss: 0.3096 - val_accuracy: 0.8854\n",
            "Epoch 7/20\n",
            "15/15 [==============================] - 1s 75ms/step - loss: 0.1230 - accuracy: 0.9576 - val_loss: 0.3294 - val_accuracy: 0.8817\n",
            "Epoch 8/20\n",
            "15/15 [==============================] - 1s 77ms/step - loss: 0.0590 - accuracy: 0.9846 - val_loss: 0.3616 - val_accuracy: 0.8802\n",
            "Epoch 9/20\n",
            "15/15 [==============================] - 1s 75ms/step - loss: 0.0973 - accuracy: 0.9650 - val_loss: 0.3824 - val_accuracy: 0.8789\n",
            "Epoch 10/20\n",
            "15/15 [==============================] - 1s 77ms/step - loss: 0.0420 - accuracy: 0.9894 - val_loss: 0.7244 - val_accuracy: 0.8193\n",
            "Epoch 11/20\n",
            "15/15 [==============================] - 1s 76ms/step - loss: 0.0699 - accuracy: 0.9769 - val_loss: 0.4390 - val_accuracy: 0.8757\n",
            "Epoch 12/20\n",
            "15/15 [==============================] - 1s 77ms/step - loss: 0.0488 - accuracy: 0.9855 - val_loss: 0.8658 - val_accuracy: 0.8000\n",
            "Epoch 13/20\n",
            "15/15 [==============================] - 1s 75ms/step - loss: 0.0375 - accuracy: 0.9894 - val_loss: 0.4895 - val_accuracy: 0.8706\n",
            "Epoch 14/20\n",
            "15/15 [==============================] - 1s 76ms/step - loss: 0.0133 - accuracy: 0.9984 - val_loss: 0.5302 - val_accuracy: 0.8717\n",
            "Epoch 15/20\n",
            "15/15 [==============================] - 1s 79ms/step - loss: 0.0837 - accuracy: 0.9755 - val_loss: 0.5457 - val_accuracy: 0.8701\n",
            "Epoch 16/20\n",
            "15/15 [==============================] - 1s 80ms/step - loss: 0.0083 - accuracy: 0.9995 - val_loss: 0.5640 - val_accuracy: 0.8700\n",
            "Epoch 17/20\n",
            "15/15 [==============================] - 1s 80ms/step - loss: 0.0062 - accuracy: 0.9997 - val_loss: 0.5972 - val_accuracy: 0.8667\n",
            "Epoch 18/20\n",
            "15/15 [==============================] - 1s 79ms/step - loss: 0.0045 - accuracy: 0.9997 - val_loss: 0.6405 - val_accuracy: 0.8670\n",
            "Epoch 19/20\n",
            "15/15 [==============================] - 1s 77ms/step - loss: 0.0278 - accuracy: 0.9931 - val_loss: 1.3188 - val_accuracy: 0.7915\n",
            "Epoch 20/20\n",
            "15/15 [==============================] - 1s 77ms/step - loss: 0.0399 - accuracy: 0.9903 - val_loss: 0.6845 - val_accuracy: 0.8646\n"
          ]
        },
        {
          "output_type": "execute_result",
          "data": {
            "text/plain": [
              "dict_keys(['loss', 'accuracy', 'val_loss', 'val_accuracy'])"
            ]
          },
          "metadata": {},
          "execution_count": 41
        }
      ]
    },
    {
      "cell_type": "markdown",
      "metadata": {
        "id": "J-D1g26w87NR"
      },
      "source": [
        "Plotting"
      ]
    },
    {
      "cell_type": "code",
      "metadata": {
        "colab": {
          "base_uri": "https://localhost:8080/",
          "height": 573
        },
        "id": "GZJpW_qw88Yf",
        "outputId": "9da9f521-f170-4780-cab4-8e3d8bdd27f8"
      },
      "source": [
        "import matplotlib.pyplot as plt\n",
        "loss_value8 = history8_dict_tanh[\"loss\"]\n",
        "val_loss_value8 = history8_dict_tanh[\"val_loss\"]\n",
        "epochs = range(1, len(loss_value8) + 1)\n",
        "plt.plot(epochs, loss_value8, \"bo\", label=\"Training loss\")\n",
        "plt.plot(epochs, val_loss_value8, \"b\", label=\"Validation loss\")\n",
        "plt.title(\"Training and validation loss\")\n",
        "plt.xlabel(\"Epochs\")\n",
        "plt.ylabel(\"Loss\")\n",
        "plt.legend()\n",
        "plt.show()\n",
        "plt.clf()\n",
        "acc = history8_dict_tanh[\"accuracy\"]\n",
        "val_acc = history8_dict_tanh[\"val_accuracy\"]\n",
        "plt.plot(epochs, acc, \"bo\", label=\"Training acc\")\n",
        "plt.plot(epochs, val_acc, \"b\", label=\"Validation acc\")\n",
        "plt.title(\"Training and validation accuracy\")\n",
        "plt.xlabel(\"Epochs\")\n",
        "plt.ylabel(\"Accuracy\")\n",
        "plt.legend()\n",
        "plt.show()"
      ],
      "execution_count": 42,
      "outputs": [
        {
          "output_type": "display_data",
          "data": {
            "image/png": "[encoded data removed]",
            "text/plain": [
              "<Figure size 432x288 with 1 Axes>"
            ]
          },
          "metadata": {
            "needs_background": "light"
          }
        },
        {
          "output_type": "display_data",
          "data": {
            "image/png": "[encoded data removed]",
            "text/plain": [
              "<Figure size 432x288 with 1 Axes>"
            ]
          },
          "metadata": {
            "needs_background": "light"
          }
        }
      ]
    },
    {
      "cell_type": "code",
      "metadata": {
        "colab": {
          "base_uri": "https://localhost:8080/"
        },
        "id": "eWMhavuW9LVu",
        "outputId": "bfb8dd34-9786-49a6-aa56-c4eba625ce4b"
      },
      "source": [
        "model8_tanh.fit(a_training, b_training, epochs=3, batch_size=512)\n",
        "result8_tanh = model8_tanh.evaluate(a_test, b_test)\n"
      ],
      "execution_count": 44,
      "outputs": [
        {
          "output_type": "stream",
          "name": "stdout",
          "text": [
            "Epoch 1/3\n",
            "49/49 [==============================] - 2s 34ms/step - loss: 0.2438 - accuracy: 0.9435\n",
            "Epoch 2/3\n",
            "49/49 [==============================] - 2s 33ms/step - loss: 0.1404 - accuracy: 0.9558\n",
            "Epoch 3/3\n",
            "49/49 [==============================] - 2s 33ms/step - loss: 0.1169 - accuracy: 0.9603\n",
            "782/782 [==============================] - 2s 3ms/step - loss: 0.4738 - accuracy: 0.8488\n"
          ]
        }
      ]
    },
    {
      "cell_type": "code",
      "metadata": {
        "colab": {
          "base_uri": "https://localhost:8080/"
        },
        "id": "AGHNjcv29TxL",
        "outputId": "24acae9c-71b1-4d28-f853-ae4315d8d4e3"
      },
      "source": [
        "result8_tanh"
      ],
      "execution_count": 45,
      "outputs": [
        {
          "output_type": "execute_result",
          "data": {
            "text/plain": [
              "[0.4737624228000641, 0.8488399982452393]"
            ]
          },
          "metadata": {},
          "execution_count": 45
        }
      ]
    },
    {
      "cell_type": "markdown",
      "metadata": {
        "id": "B7Xk85UK9XxB"
      },
      "source": [
        "### **Regularisation**"
      ]
    },
    {
      "cell_type": "markdown",
      "metadata": {
        "id": "WNMchFVZ9bNp"
      },
      "source": [
        "Model 9 Regulizer"
      ]
    },
    {
      "cell_type": "code",
      "metadata": {
        "colab": {
          "base_uri": "https://localhost:8080/"
        },
        "id": "ydbnD2a89hcx",
        "outputId": "5d6697d1-9750-4a0a-a9ca-1735d10378b0"
      },
      "source": [
        "from tensorflow.keras import regularizers\n",
        "model9_reg = keras.Sequential([\n",
        "    layers.Dense(32, activation=\"relu\",kernel_regularizer=regularizers.l2(0.001)),\n",
        "    layers.Dense(32, activation=\"relu\",kernel_regularizer=regularizers.l2(0.001)),\n",
        "    layers.Dense(1, activation=\"sigmoid\")\n",
        "])\n",
        "model9_reg.compile(optimizer=\"rmsprop\",\n",
        "              loss=\"binary_crossentropy\",\n",
        "              metrics=[\"accuracy\"])\n",
        "history_model9_reg = model9_reg.fit(partial_a_training,\n",
        "                    partial_b_training,\n",
        "                    epochs=20,\n",
        "                    batch_size=512,\n",
        "                    validation_data=(a_valid, b_valid))\n",
        "history9_dict_reg = history_model9_reg.history\n",
        "history9_dict_reg.keys()"
      ],
      "execution_count": 46,
      "outputs": [
        {
          "output_type": "stream",
          "name": "stdout",
          "text": [
            "Epoch 1/20\n",
            "30/30 [==============================] - 2s 55ms/step - loss: 0.5568 - accuracy: 0.7763 - val_loss: 0.4517 - val_accuracy: 0.8354\n",
            "Epoch 2/20\n",
            "30/30 [==============================] - 1s 43ms/step - loss: 0.3509 - accuracy: 0.8993 - val_loss: 0.3671 - val_accuracy: 0.8830\n",
            "Epoch 3/20\n",
            "30/30 [==============================] - 1s 44ms/step - loss: 0.2920 - accuracy: 0.9197 - val_loss: 0.3689 - val_accuracy: 0.8814\n",
            "Epoch 4/20\n",
            "30/30 [==============================] - 1s 44ms/step - loss: 0.2608 - accuracy: 0.9329 - val_loss: 0.3496 - val_accuracy: 0.8854\n",
            "Epoch 5/20\n",
            "30/30 [==============================] - 1s 45ms/step - loss: 0.2358 - accuracy: 0.9427 - val_loss: 0.3699 - val_accuracy: 0.8800\n",
            "Epoch 6/20\n",
            "30/30 [==============================] - 1s 44ms/step - loss: 0.2233 - accuracy: 0.9452 - val_loss: 0.3629 - val_accuracy: 0.8833\n",
            "Epoch 7/20\n",
            "30/30 [==============================] - 1s 45ms/step - loss: 0.2142 - accuracy: 0.9509 - val_loss: 0.3763 - val_accuracy: 0.8835\n",
            "Epoch 8/20\n",
            "30/30 [==============================] - 1s 45ms/step - loss: 0.2031 - accuracy: 0.9531 - val_loss: 0.4912 - val_accuracy: 0.8500\n",
            "Epoch 9/20\n",
            "30/30 [==============================] - 1s 44ms/step - loss: 0.1959 - accuracy: 0.9562 - val_loss: 0.3978 - val_accuracy: 0.8768\n",
            "Epoch 10/20\n",
            "30/30 [==============================] - 1s 44ms/step - loss: 0.1938 - accuracy: 0.9579 - val_loss: 0.4024 - val_accuracy: 0.8799\n",
            "Epoch 11/20\n",
            "30/30 [==============================] - 1s 43ms/step - loss: 0.1813 - accuracy: 0.9628 - val_loss: 0.4326 - val_accuracy: 0.8686\n",
            "Epoch 12/20\n",
            "30/30 [==============================] - 1s 44ms/step - loss: 0.1790 - accuracy: 0.9634 - val_loss: 0.4984 - val_accuracy: 0.8531\n",
            "Epoch 13/20\n",
            "30/30 [==============================] - 1s 43ms/step - loss: 0.1801 - accuracy: 0.9646 - val_loss: 0.4313 - val_accuracy: 0.8736\n",
            "Epoch 14/20\n",
            "30/30 [==============================] - 1s 44ms/step - loss: 0.1690 - accuracy: 0.9698 - val_loss: 0.4694 - val_accuracy: 0.8635\n",
            "Epoch 15/20\n",
            "30/30 [==============================] - 1s 44ms/step - loss: 0.1846 - accuracy: 0.9601 - val_loss: 0.4403 - val_accuracy: 0.8770\n",
            "Epoch 16/20\n",
            "30/30 [==============================] - 1s 44ms/step - loss: 0.1633 - accuracy: 0.9730 - val_loss: 0.4506 - val_accuracy: 0.8710\n",
            "Epoch 17/20\n",
            "30/30 [==============================] - 1s 43ms/step - loss: 0.1529 - accuracy: 0.9747 - val_loss: 0.7152 - val_accuracy: 0.8179\n",
            "Epoch 18/20\n",
            "30/30 [==============================] - 1s 45ms/step - loss: 0.1671 - accuracy: 0.9675 - val_loss: 0.4781 - val_accuracy: 0.8675\n",
            "Epoch 19/20\n",
            "30/30 [==============================] - 1s 44ms/step - loss: 0.1554 - accuracy: 0.9726 - val_loss: 0.5169 - val_accuracy: 0.8569\n",
            "Epoch 20/20\n",
            "30/30 [==============================] - 1s 44ms/step - loss: 0.1638 - accuracy: 0.9685 - val_loss: 0.4650 - val_accuracy: 0.8752\n"
          ]
        },
        {
          "output_type": "execute_result",
          "data": {
            "text/plain": [
              "dict_keys(['loss', 'accuracy', 'val_loss', 'val_accuracy'])"
            ]
          },
          "metadata": {},
          "execution_count": 46
        }
      ]
    },
    {
      "cell_type": "code",
      "metadata": {
        "colab": {
          "base_uri": "https://localhost:8080/",
          "height": 573
        },
        "id": "qwsY_I2j96YG",
        "outputId": "16246a4c-27cc-422c-c643-9a1e02268d47"
      },
      "source": [
        "import matplotlib.pyplot as plt\n",
        "loss_value9 = history9_dict_reg[\"loss\"]\n",
        "val_loss_value9 = history9_dict_reg[\"val_loss\"]\n",
        "epochs = range(1, len(loss_value9) + 1)\n",
        "plt.plot(epochs, loss_value9, \"bo\", label=\"Training loss\")\n",
        "plt.plot(epochs, val_loss_value9, \"b\", label=\"Validation loss\")\n",
        "plt.title(\"Training and validation loss\")\n",
        "plt.xlabel(\"Epochs\")\n",
        "plt.ylabel(\"Loss\")\n",
        "plt.legend()\n",
        "plt.show()\n",
        "plt.clf()\n",
        "acc = history9_dict_reg[\"accuracy\"]\n",
        "val_acc = history9_dict_reg[\"val_accuracy\"]\n",
        "plt.plot(epochs, acc, \"bo\", label=\"Training acc\")\n",
        "plt.plot(epochs, val_acc, \"b\", label=\"Validation acc\")\n",
        "plt.title(\"Training and validation accuracy\")\n",
        "plt.xlabel(\"Epochs\")\n",
        "plt.ylabel(\"Accuracy\")\n",
        "plt.legend()\n",
        "plt.show()"
      ],
      "execution_count": 47,
      "outputs": [
        {
          "output_type": "display_data",
          "data": {
            "image/png": "[encoded data removed]",
            "text/plain": [
              "<Figure size 432x288 with 1 Axes>"
            ]
          },
          "metadata": {
            "needs_background": "light"
          }
        },
        {
          "output_type": "display_data",
          "data": {
            "image/png": "[encoded data removed]",
            "text/plain": [
              "<Figure size 432x288 with 1 Axes>"
            ]
          },
          "metadata": {
            "needs_background": "light"
          }
        }
      ]
    },
    {
      "cell_type": "code",
      "metadata": {
        "colab": {
          "base_uri": "https://localhost:8080/"
        },
        "id": "qbhpghBm-EIV",
        "outputId": "83fa01ab-9720-4707-f4ce-f959e86330c0"
      },
      "source": [
        "model9_reg.fit(a_training, b_training, epochs=4, batch_size=512)\n",
        "result9_reg = model9_reg.evaluate(a_test, b_test)\n"
      ],
      "execution_count": 48,
      "outputs": [
        {
          "output_type": "stream",
          "name": "stdout",
          "text": [
            "Epoch 1/4\n",
            "49/49 [==============================] - 2s 37ms/step - loss: 0.2628 - accuracy: 0.9345\n",
            "Epoch 2/4\n",
            "49/49 [==============================] - 2s 35ms/step - loss: 0.2283 - accuracy: 0.9417\n",
            "Epoch 3/4\n",
            "49/49 [==============================] - 2s 36ms/step - loss: 0.2106 - accuracy: 0.9490\n",
            "Epoch 4/4\n",
            "49/49 [==============================] - 2s 35ms/step - loss: 0.2022 - accuracy: 0.9519\n",
            "782/782 [==============================] - 2s 3ms/step - loss: 0.3966 - accuracy: 0.8715\n"
          ]
        }
      ]
    },
    {
      "cell_type": "code",
      "metadata": {
        "colab": {
          "base_uri": "https://localhost:8080/"
        },
        "id": "HW9nrxxa-Pk5",
        "outputId": "7cd24712-4c97-4e30-f13e-08c1cda718b3"
      },
      "source": [
        "result9_reg"
      ],
      "execution_count": 49,
      "outputs": [
        {
          "output_type": "execute_result",
          "data": {
            "text/plain": [
              "[0.3965916931629181, 0.8714799880981445]"
            ]
          },
          "metadata": {},
          "execution_count": 49
        }
      ]
    },
    {
      "cell_type": "markdown",
      "metadata": {
        "id": "ikbXSyPb-Syt"
      },
      "source": [
        "### **Dropout**"
      ]
    },
    {
      "cell_type": "markdown",
      "metadata": {
        "id": "aXb1dFH2-XqP"
      },
      "source": [
        "Model 10 (Dropout 0.5)"
      ]
    },
    {
      "cell_type": "code",
      "metadata": {
        "colab": {
          "base_uri": "https://localhost:8080/"
        },
        "id": "IkCaWrlJ-gsW",
        "outputId": "87960438-f4c6-4198-d0a7-6dcddc7122a3"
      },
      "source": [
        "from tensorflow.keras import regularizers\n",
        "model10_Dropout = keras.Sequential([\n",
        "    layers.Dense(32, activation=\"relu\"),\n",
        "    layers.Dropout(0.5),\n",
        "    layers.Dense(32, activation=\"relu\"),\n",
        "    layers.Dropout(0.5),\n",
        "    layers.Dense(1, activation=\"sigmoid\")\n",
        "])\n",
        "model10_Dropout.compile(optimizer=\"rmsprop\",\n",
        "              loss=\"binary_crossentropy\",\n",
        "              metrics=[\"accuracy\"])\n",
        "history_model10_Dropout = model10_Dropout.fit(partial_a_training,\n",
        "                    partial_b_training,\n",
        "                    epochs=20,\n",
        "                    batch_size=512,\n",
        "                    validation_data=(a_valid, b_valid))\n",
        "history10_dict_Dropout = history_model10_Dropout.history\n",
        "history10_dict_Dropout.keys()"
      ],
      "execution_count": 50,
      "outputs": [
        {
          "output_type": "stream",
          "name": "stdout",
          "text": [
            "Epoch 1/20\n",
            "30/30 [==============================] - 2s 53ms/step - loss: 0.5684 - accuracy: 0.7021 - val_loss: 0.4002 - val_accuracy: 0.8611\n",
            "Epoch 2/20\n",
            "30/30 [==============================] - 1s 43ms/step - loss: 0.3964 - accuracy: 0.8469 - val_loss: 0.3167 - val_accuracy: 0.8773\n",
            "Epoch 3/20\n",
            "30/30 [==============================] - 1s 42ms/step - loss: 0.3051 - accuracy: 0.8929 - val_loss: 0.2798 - val_accuracy: 0.8907\n",
            "Epoch 4/20\n",
            "30/30 [==============================] - 1s 43ms/step - loss: 0.2498 - accuracy: 0.9151 - val_loss: 0.2786 - val_accuracy: 0.8871\n",
            "Epoch 5/20\n",
            "30/30 [==============================] - 1s 43ms/step - loss: 0.2057 - accuracy: 0.9313 - val_loss: 0.2872 - val_accuracy: 0.8868\n",
            "Epoch 6/20\n",
            "30/30 [==============================] - 1s 43ms/step - loss: 0.1702 - accuracy: 0.9439 - val_loss: 0.2944 - val_accuracy: 0.8881\n",
            "Epoch 7/20\n",
            "30/30 [==============================] - 1s 44ms/step - loss: 0.1401 - accuracy: 0.9535 - val_loss: 0.3396 - val_accuracy: 0.8812\n",
            "Epoch 8/20\n",
            "30/30 [==============================] - 1s 43ms/step - loss: 0.1189 - accuracy: 0.9603 - val_loss: 0.3456 - val_accuracy: 0.8835\n",
            "Epoch 9/20\n",
            "30/30 [==============================] - 1s 43ms/step - loss: 0.0974 - accuracy: 0.9707 - val_loss: 0.3693 - val_accuracy: 0.8861\n",
            "Epoch 10/20\n",
            "30/30 [==============================] - 1s 43ms/step - loss: 0.0855 - accuracy: 0.9722 - val_loss: 0.3918 - val_accuracy: 0.8864\n",
            "Epoch 11/20\n",
            "30/30 [==============================] - 1s 42ms/step - loss: 0.0753 - accuracy: 0.9760 - val_loss: 0.4220 - val_accuracy: 0.8846\n",
            "Epoch 12/20\n",
            "30/30 [==============================] - 1s 43ms/step - loss: 0.0611 - accuracy: 0.9831 - val_loss: 0.4695 - val_accuracy: 0.8824\n",
            "Epoch 13/20\n",
            "30/30 [==============================] - 1s 43ms/step - loss: 0.0545 - accuracy: 0.9831 - val_loss: 0.5280 - val_accuracy: 0.8788\n",
            "Epoch 14/20\n",
            "30/30 [==============================] - 1s 42ms/step - loss: 0.0483 - accuracy: 0.9851 - val_loss: 0.5446 - val_accuracy: 0.8852\n",
            "Epoch 15/20\n",
            "30/30 [==============================] - 1s 44ms/step - loss: 0.0459 - accuracy: 0.9879 - val_loss: 0.5705 - val_accuracy: 0.8852\n",
            "Epoch 16/20\n",
            "30/30 [==============================] - 1s 43ms/step - loss: 0.0382 - accuracy: 0.9901 - val_loss: 0.6232 - val_accuracy: 0.8833\n",
            "Epoch 17/20\n",
            "30/30 [==============================] - 1s 43ms/step - loss: 0.0353 - accuracy: 0.9893 - val_loss: 0.6271 - val_accuracy: 0.8843\n",
            "Epoch 18/20\n",
            "30/30 [==============================] - 1s 43ms/step - loss: 0.0322 - accuracy: 0.9908 - val_loss: 0.6941 - val_accuracy: 0.8851\n",
            "Epoch 19/20\n",
            "30/30 [==============================] - 1s 43ms/step - loss: 0.0312 - accuracy: 0.9913 - val_loss: 0.7177 - val_accuracy: 0.8830\n",
            "Epoch 20/20\n",
            "30/30 [==============================] - 1s 43ms/step - loss: 0.0324 - accuracy: 0.9923 - val_loss: 0.7353 - val_accuracy: 0.8825\n"
          ]
        },
        {
          "output_type": "execute_result",
          "data": {
            "text/plain": [
              "dict_keys(['loss', 'accuracy', 'val_loss', 'val_accuracy'])"
            ]
          },
          "metadata": {},
          "execution_count": 50
        }
      ]
    },
    {
      "cell_type": "code",
      "metadata": {
        "colab": {
          "base_uri": "https://localhost:8080/",
          "height": 573
        },
        "id": "wu28zC2H-zf0",
        "outputId": "bb1eec88-3778-4113-bc32-d227818b3b51"
      },
      "source": [
        "import matplotlib.pyplot as plt\n",
        "loss_value10 = history10_dict_Dropout[\"loss\"]\n",
        "val_loss_value10 = history10_dict_Dropout[\"val_loss\"]\n",
        "epochs = range(1, len(loss_value10) + 1)\n",
        "plt.plot(epochs, loss_value10, \"bo\", label=\"Training loss\")\n",
        "plt.plot(epochs, val_loss_value10, \"b\", label=\"Validation loss\")\n",
        "plt.title(\"Training and validation loss\")\n",
        "plt.xlabel(\"Epochs\")\n",
        "plt.ylabel(\"Loss\")\n",
        "plt.legend()\n",
        "plt.show()\n",
        "plt.clf()\n",
        "acc = history10_dict_Dropout[\"accuracy\"]\n",
        "val_acc = history10_dict_Dropout[\"val_accuracy\"]\n",
        "plt.plot(epochs, acc, \"bo\", label=\"Training acc\")\n",
        "plt.plot(epochs, val_acc, \"b\", label=\"Validation acc\")\n",
        "plt.title(\"Training and validation accuracy\")\n",
        "plt.xlabel(\"Epochs\")\n",
        "plt.ylabel(\"Accuracy\")\n",
        "plt.legend()\n",
        "plt.show()"
      ],
      "execution_count": 51,
      "outputs": [
        {
          "output_type": "display_data",
          "data": {
            "image/png": "[encoded data removed]",
            "text/plain": [
              "<Figure size 432x288 with 1 Axes>"
            ]
          },
          "metadata": {
            "needs_background": "light"
          }
        },
        {
          "output_type": "display_data",
          "data": {
            "image/png": "[encoded data removed]",
            "text/plain": [
              "<Figure size 432x288 with 1 Axes>"
            ]
          },
          "metadata": {
            "needs_background": "light"
          }
        }
      ]
    },
    {
      "cell_type": "code",
      "metadata": {
        "colab": {
          "base_uri": "https://localhost:8080/"
        },
        "id": "WEVKSB3W-_QA",
        "outputId": "ec63f55f-bad9-4183-82ce-21590249fc30"
      },
      "source": [
        "model10_Dropout.fit(a_training, b_training, epochs=10, batch_size=512)\n",
        "result10_Dropout = model10_Dropout.evaluate(a_test, b_test)\n"
      ],
      "execution_count": 52,
      "outputs": [
        {
          "output_type": "stream",
          "name": "stdout",
          "text": [
            "Epoch 1/10\n",
            "49/49 [==============================] - 2s 35ms/step - loss: 0.2589 - accuracy: 0.9334\n",
            "Epoch 2/10\n",
            "49/49 [==============================] - 2s 34ms/step - loss: 0.1890 - accuracy: 0.9455\n",
            "Epoch 3/10\n",
            "49/49 [==============================] - 2s 34ms/step - loss: 0.1534 - accuracy: 0.9546\n",
            "Epoch 4/10\n",
            "49/49 [==============================] - 2s 34ms/step - loss: 0.1320 - accuracy: 0.9622\n",
            "Epoch 5/10\n",
            "49/49 [==============================] - 2s 34ms/step - loss: 0.1163 - accuracy: 0.9652\n",
            "Epoch 6/10\n",
            "49/49 [==============================] - 2s 34ms/step - loss: 0.1036 - accuracy: 0.9692\n",
            "Epoch 7/10\n",
            "49/49 [==============================] - 2s 34ms/step - loss: 0.0894 - accuracy: 0.9741\n",
            "Epoch 8/10\n",
            "49/49 [==============================] - 2s 34ms/step - loss: 0.0854 - accuracy: 0.9736\n",
            "Epoch 9/10\n",
            "49/49 [==============================] - 2s 34ms/step - loss: 0.0805 - accuracy: 0.9760\n",
            "Epoch 10/10\n",
            "49/49 [==============================] - 2s 34ms/step - loss: 0.0727 - accuracy: 0.9794\n",
            "782/782 [==============================] - 2s 3ms/step - loss: 0.6999 - accuracy: 0.8645\n"
          ]
        }
      ]
    },
    {
      "cell_type": "code",
      "metadata": {
        "colab": {
          "base_uri": "https://localhost:8080/"
        },
        "id": "-7DMrAH5_Kwp",
        "outputId": "f0feceee-7626-43ff-8fee-43b49d1cb2fd"
      },
      "source": [
        "result10_Dropout"
      ],
      "execution_count": 53,
      "outputs": [
        {
          "output_type": "execute_result",
          "data": {
            "text/plain": [
              "[0.6998965740203857, 0.8645200133323669]"
            ]
          },
          "metadata": {},
          "execution_count": 53
        }
      ]
    },
    {
      "cell_type": "markdown",
      "metadata": {
        "id": "PUNcZdwv_U9F"
      },
      "source": [
        "### **Hypertuning**"
      ]
    },
    {
      "cell_type": "markdown",
      "metadata": {
        "id": "FTgZ7lI6_bJf"
      },
      "source": [
        "Model 11( Hypertuning)"
      ]
    },
    {
      "cell_type": "code",
      "metadata": {
        "colab": {
          "base_uri": "https://localhost:8080/"
        },
        "id": "11cvaXde_e-F",
        "outputId": "ed61c749-fc9c-430d-e827-d9af3d119eb5"
      },
      "source": [
        "from tensorflow.keras import regularizers\n",
        "model_hyper = keras.Sequential([\n",
        "    layers.Dense(64, activation=\"relu\",kernel_regularizer=regularizers.l2(0.0001)),\n",
        "    layers.Dropout(0.7),    \n",
        "    layers.Dense(64, activation=\"relu\",kernel_regularizer=regularizers.l2(0.0001)),\n",
        "    layers.Dropout(0.7),\n",
        "    layers.Dense(32, activation=\"relu\",kernel_regularizer=regularizers.l2(0.0001)),\n",
        "    layers.Dropout(0.7),\n",
        "    layers.Dense(1, activation=\"sigmoid\")\n",
        "])\n",
        "model_hyper.compile(optimizer=\"rmsprop\",\n",
        "              loss=\"mse\",\n",
        "              metrics=[\"accuracy\"])\n",
        "history_model_hyper = model_hyper.fit(partial_a_training,\n",
        "                    partial_b_training,\n",
        "                    epochs=20,\n",
        "                    batch_size=512,\n",
        "                    validation_data=(a_valid, b_valid))\n",
        "history_dict_hyper = history_model_hyper.history\n",
        "history_dict_hyper.keys()"
      ],
      "execution_count": 54,
      "outputs": [
        {
          "output_type": "stream",
          "name": "stdout",
          "text": [
            "Epoch 1/20\n",
            "30/30 [==============================] - 3s 73ms/step - loss: 0.2691 - accuracy: 0.5241 - val_loss: 0.2621 - val_accuracy: 0.6903\n",
            "Epoch 2/20\n",
            "30/30 [==============================] - 2s 65ms/step - loss: 0.2501 - accuracy: 0.6162 - val_loss: 0.2316 - val_accuracy: 0.8001\n",
            "Epoch 3/20\n",
            "30/30 [==============================] - 2s 65ms/step - loss: 0.2168 - accuracy: 0.7342 - val_loss: 0.1809 - val_accuracy: 0.8597\n",
            "Epoch 4/20\n",
            "30/30 [==============================] - 2s 66ms/step - loss: 0.1800 - accuracy: 0.8087 - val_loss: 0.1442 - val_accuracy: 0.8607\n",
            "Epoch 5/20\n",
            "30/30 [==============================] - 2s 62ms/step - loss: 0.1484 - accuracy: 0.8516 - val_loss: 0.1138 - val_accuracy: 0.8764\n",
            "Epoch 6/20\n",
            "30/30 [==============================] - 2s 62ms/step - loss: 0.1257 - accuracy: 0.8773 - val_loss: 0.1069 - val_accuracy: 0.8810\n",
            "Epoch 7/20\n",
            "30/30 [==============================] - 2s 62ms/step - loss: 0.1111 - accuracy: 0.8872 - val_loss: 0.0992 - val_accuracy: 0.8831\n",
            "Epoch 8/20\n",
            "30/30 [==============================] - 2s 65ms/step - loss: 0.0991 - accuracy: 0.9023 - val_loss: 0.1001 - val_accuracy: 0.8836\n",
            "Epoch 9/20\n",
            "30/30 [==============================] - 2s 65ms/step - loss: 0.0908 - accuracy: 0.9079 - val_loss: 0.1016 - val_accuracy: 0.8785\n",
            "Epoch 10/20\n",
            "30/30 [==============================] - 2s 64ms/step - loss: 0.0818 - accuracy: 0.9192 - val_loss: 0.0999 - val_accuracy: 0.8854\n",
            "Epoch 11/20\n",
            "30/30 [==============================] - 2s 65ms/step - loss: 0.0797 - accuracy: 0.9201 - val_loss: 0.1019 - val_accuracy: 0.8832\n",
            "Epoch 12/20\n",
            "30/30 [==============================] - 2s 64ms/step - loss: 0.0776 - accuracy: 0.9227 - val_loss: 0.1004 - val_accuracy: 0.8858\n",
            "Epoch 13/20\n",
            "30/30 [==============================] - 2s 63ms/step - loss: 0.0734 - accuracy: 0.9283 - val_loss: 0.1020 - val_accuracy: 0.8846\n",
            "Epoch 14/20\n",
            "30/30 [==============================] - 2s 63ms/step - loss: 0.0693 - accuracy: 0.9321 - val_loss: 0.1023 - val_accuracy: 0.8858\n",
            "Epoch 15/20\n",
            "30/30 [==============================] - 2s 61ms/step - loss: 0.0696 - accuracy: 0.9317 - val_loss: 0.1071 - val_accuracy: 0.8799\n",
            "Epoch 16/20\n",
            "30/30 [==============================] - 2s 60ms/step - loss: 0.0671 - accuracy: 0.9336 - val_loss: 0.1044 - val_accuracy: 0.8822\n",
            "Epoch 17/20\n",
            "30/30 [==============================] - 2s 61ms/step - loss: 0.0649 - accuracy: 0.9372 - val_loss: 0.1056 - val_accuracy: 0.8817\n",
            "Epoch 18/20\n",
            "30/30 [==============================] - 2s 64ms/step - loss: 0.0628 - accuracy: 0.9385 - val_loss: 0.1054 - val_accuracy: 0.8808\n",
            "Epoch 19/20\n",
            "30/30 [==============================] - 2s 62ms/step - loss: 0.0620 - accuracy: 0.9401 - val_loss: 0.1065 - val_accuracy: 0.8822\n",
            "Epoch 20/20\n",
            "30/30 [==============================] - 2s 62ms/step - loss: 0.0625 - accuracy: 0.9405 - val_loss: 0.1073 - val_accuracy: 0.8804\n"
          ]
        },
        {
          "output_type": "execute_result",
          "data": {
            "text/plain": [
              "dict_keys(['loss', 'accuracy', 'val_loss', 'val_accuracy'])"
            ]
          },
          "metadata": {},
          "execution_count": 54
        }
      ]
    },
    {
      "cell_type": "markdown",
      "metadata": {
        "id": "_Ssid3DmATNx"
      },
      "source": [
        "Plotting"
      ]
    },
    {
      "cell_type": "code",
      "metadata": {
        "colab": {
          "base_uri": "https://localhost:8080/",
          "height": 573
        },
        "id": "Sk65bE5BAUjm",
        "outputId": "34f13c5e-aee4-4180-a9dd-a3aeb4209511"
      },
      "source": [
        "import matplotlib.pyplot as plt\n",
        "loss_value_hyper = history_dict_hyper[\"loss\"]\n",
        "val_loss_value_hyper = history_dict_hyper[\"val_loss\"]\n",
        "epochs = range(1, len(loss_value_hyper) + 1)\n",
        "plt.plot(epochs, loss_value_hyper, \"bo\", label=\"Training loss\")\n",
        "plt.plot(epochs, val_loss_value_hyper, \"b\", label=\"Validation loss\")\n",
        "plt.title(\"Training and validation loss\")\n",
        "plt.xlabel(\"Epochs\")\n",
        "plt.ylabel(\"Loss\")\n",
        "plt.legend()\n",
        "plt.show()\n",
        "plt.clf()\n",
        "acc = history_dict_hyper[\"accuracy\"]\n",
        "val_acc = history_dict_hyper[\"val_accuracy\"]\n",
        "plt.plot(epochs, acc, \"bo\", label=\"Training acc\")\n",
        "plt.plot(epochs, val_acc, \"b\", label=\"Validation acc\")\n",
        "plt.title(\"Training and validation accuracy\")\n",
        "plt.xlabel(\"Epochs\")\n",
        "plt.ylabel(\"Accuracy\")\n",
        "plt.legend()\n",
        "plt.show()"
      ],
      "execution_count": 55,
      "outputs": [
        {
          "output_type": "display_data",
          "data": {
            "image/png": "[encoded data removed]",
            "text/plain": [
              "<Figure size 432x288 with 1 Axes>"
            ]
          },
          "metadata": {
            "needs_background": "light"
          }
        },
        {
          "output_type": "display_data",
          "data": {
            "image/png": "[encoded data removed]",
            "text/plain": [
              "<Figure size 432x288 with 1 Axes>"
            ]
          },
          "metadata": {
            "needs_background": "light"
          }
        }
      ]
    },
    {
      "cell_type": "code",
      "metadata": {
        "colab": {
          "base_uri": "https://localhost:8080/"
        },
        "id": "9nYyJihBF_QI",
        "outputId": "31f48158-5eaf-467a-d3a0-fde4a09f4ac2"
      },
      "source": [
        "model_hyper.fit(a_training, b_training, epochs=4, batch_size=512)\n",
        "result_hyper = model_hyper.evaluate(a_test, b_test)\n"
      ],
      "execution_count": 57,
      "outputs": [
        {
          "output_type": "stream",
          "name": "stdout",
          "text": [
            "Epoch 1/4\n",
            "49/49 [==============================] - 2s 50ms/step - loss: 0.0748 - accuracy: 0.9230\n",
            "Epoch 2/4\n",
            "49/49 [==============================] - 2s 50ms/step - loss: 0.0714 - accuracy: 0.9245\n",
            "Epoch 3/4\n",
            "49/49 [==============================] - 2s 50ms/step - loss: 0.0720 - accuracy: 0.9244\n",
            "Epoch 4/4\n",
            "49/49 [==============================] - 2s 50ms/step - loss: 0.0717 - accuracy: 0.9244\n",
            "782/782 [==============================] - 3s 4ms/step - loss: 0.1035 - accuracy: 0.8796\n"
          ]
        }
      ]
    },
    {
      "cell_type": "code",
      "metadata": {
        "colab": {
          "base_uri": "https://localhost:8080/"
        },
        "id": "ja_Y6oqMNwR7",
        "outputId": "8bef55a9-7423-4b0e-8120-95db8c31ee85"
      },
      "source": [
        "result_hyper"
      ],
      "execution_count": 58,
      "outputs": [
        {
          "output_type": "execute_result",
          "data": {
            "text/plain": [
              "[0.1035483181476593, 0.8795599937438965]"
            ]
          },
          "metadata": {},
          "execution_count": 58
        }
      ]
    },
    {
      "cell_type": "markdown",
      "metadata": {
        "id": "iQTYOkRcGNoY"
      },
      "source": [
        "### **Summary**"
      ]
    },
    {
      "cell_type": "code",
      "metadata": {
        "colab": {
          "base_uri": "https://localhost:8080/",
          "height": 34
        },
        "id": "zrbu-dWBGUds",
        "outputId": "1917b5e6-a182-4a6c-a85f-7658c4dce609"
      },
      "source": [
        "all_Loss= numpy.array([result10_Dropout[0],result_hyper[0],result7_MSE[0],result9_reg[0],result8_tanh[0]])*100\n",
        "all_Loss\n",
        "all_Accuracy= numpy.array([result10_Dropout[1],result_hyper[1],result7_MSE[1],result9_reg[1],result8_tanh[1]])*100\n",
        "all_Accuracy\n",
        "Labels=['Model10_Dropout','Model_hyper','Model7_MSE','model9_reg','model8_tanh']\n",
        "\n",
        "plt.clf()"
      ],
      "execution_count": 59,
      "outputs": [
        {
          "output_type": "display_data",
          "data": {
            "text/plain": [
              "<Figure size 432x288 with 0 Axes>"
            ]
          },
          "metadata": {}
        }
      ]
    },
    {
      "cell_type": "code",
      "metadata": {
        "colab": {
          "base_uri": "https://localhost:8080/",
          "height": 295
        },
        "id": "RXVj3oMWHM_9",
        "outputId": "7695e6a3-f339-40b0-8d96-d3624dee34a2"
      },
      "source": [
        "fig, ax = plt.subplots()\n",
        "ax.scatter(all_Loss,all_Accuracy)\n",
        "for i, txt in enumerate(Labels):\n",
        "    ax.annotate(txt, (all_Loss[i],all_Accuracy[i] ))\n",
        "plt.title(\"Final Summary for Accuracy and Loss\")\n",
        "plt.ylabel(\"Accuracy\")\n",
        "plt.xlabel(\"Loss\")\n",
        "\n",
        "plt.show()"
      ],
      "execution_count": 60,
      "outputs": [
        {
          "output_type": "display_data",
          "data": {
            "image/png": "[encoded data removed]",
            "text/plain": [
              "<Figure size 432x288 with 1 Axes>"
            ]
          },
          "metadata": {
            "needs_background": "light"
          }
        }
      ]
    },
    {
      "cell_type": "markdown",
      "metadata": {
        "id": "m9WFDu4XHUtZ"
      },
      "source": [
        "\n",
        "### **Final Comments**\n",
        "## Model_hyper has the Maximun accuracy and Loss . We used 3 dense layers (64,64,32) with droup out rate of 0.7 for each. For loss we use MSE comparing the model7_MSE loss with any other model except Model_hyper) We see that the model7_MSE has the minimum loss."
      ]
    },
    {
      "cell_type": "markdown",
      "metadata": {
        "id": "fehUmjkeH2fA"
      },
      "source": [
        "## A hyperparameter tuning is a parameter whose value is used to control the learning process. The above observation shows, the variations in the performance measure while hyper tuning. While increasing the units from 16, 32, 64, 128, we saw that change in the accuracy is minimum but the loss function decreases. Also, the epochs values are generated at the early cycle as units are increasing.Increasing the number of hidden layers from 1 to 5, we observed there is no change in accuracy or deflection in the loss function.Loss value is low when compared to binary cross entropy,while using “MSE” as loss function for IMDB dataset.The accuracy of tanh activation function  is low.Less overfitting is less in regularization model . It shows better accuracy and gives a lower loss. The dropout does not affect accuracy."
      ]
    }
  ]
}